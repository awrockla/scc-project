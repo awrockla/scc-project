{
 "cells": [
  {
   "cell_type": "code",
   "execution_count": 269,
   "id": "9863d354",
   "metadata": {},
   "outputs": [
    {
     "name": "stdout",
     "output_type": "stream",
     "text": [
      "Collecting numpy==1.23.5 (from -r requirements.txt (line 1))\n",
      "  Using cached numpy-1.23.5-cp310-cp310-macosx_11_0_arm64.whl.metadata (2.3 kB)\n",
      "Collecting pandas==1.5.3 (from -r requirements.txt (line 2))\n",
      "  Using cached pandas-1.5.3-cp310-cp310-macosx_11_0_arm64.whl.metadata (11 kB)\n",
      "Collecting scikit-learn==1.5.0 (from -r requirements.txt (line 3))\n",
      "  Using cached scikit_learn-1.5.0-cp310-cp310-macosx_12_0_arm64.whl.metadata (11 kB)\n",
      "Collecting xgboost==1.7.6 (from -r requirements.txt (line 4))\n",
      "  Using cached xgboost-1.7.6-py3-none-macosx_12_0_arm64.whl.metadata (1.9 kB)\n",
      "Collecting joblib==1.2.0 (from -r requirements.txt (line 5))\n",
      "  Using cached joblib-1.2.0-py3-none-any.whl.metadata (5.3 kB)\n",
      "Collecting nltk==3.9.1 (from -r requirements.txt (line 6))\n",
      "  Using cached nltk-3.9.1-py3-none-any.whl.metadata (2.9 kB)\n",
      "Collecting gunicorn==22.0.0 (from -r requirements.txt (line 7))\n",
      "  Using cached gunicorn-22.0.0-py3-none-any.whl.metadata (4.4 kB)\n",
      "Collecting matplotlib==3.7.1 (from -r requirements.txt (line 8))\n",
      "  Using cached matplotlib-3.7.1-cp310-cp310-macosx_11_0_arm64.whl.metadata (5.6 kB)\n",
      "Collecting seaborn==0.12.2 (from -r requirements.txt (line 9))\n",
      "  Using cached seaborn-0.12.2-py3-none-any.whl.metadata (5.4 kB)\n",
      "Collecting wordcloud==1.8.2.2 (from -r requirements.txt (line 10))\n",
      "  Using cached wordcloud-1.8.2.2-cp310-cp310-macosx_11_0_arm64.whl\n",
      "Collecting pillow==10.3.0 (from -r requirements.txt (line 11))\n",
      "  Using cached pillow-10.3.0-cp310-cp310-macosx_11_0_arm64.whl.metadata (9.2 kB)\n",
      "Collecting Jinja2==3.1.2 (from -r requirements.txt (line 12))\n",
      "  Using cached Jinja2-3.1.2-py3-none-any.whl.metadata (3.5 kB)\n",
      "Collecting python-dateutil>=2.8.1 (from pandas==1.5.3->-r requirements.txt (line 2))\n",
      "  Using cached python_dateutil-2.9.0.post0-py2.py3-none-any.whl.metadata (8.4 kB)\n",
      "Collecting pytz>=2020.1 (from pandas==1.5.3->-r requirements.txt (line 2))\n",
      "  Using cached pytz-2024.2-py2.py3-none-any.whl.metadata (22 kB)\n",
      "Collecting scipy>=1.6.0 (from scikit-learn==1.5.0->-r requirements.txt (line 3))\n",
      "  Using cached scipy-1.14.1-cp310-cp310-macosx_14_0_arm64.whl.metadata (60 kB)\n",
      "Collecting threadpoolctl>=3.1.0 (from scikit-learn==1.5.0->-r requirements.txt (line 3))\n",
      "  Using cached threadpoolctl-3.5.0-py3-none-any.whl.metadata (13 kB)\n",
      "Collecting click (from nltk==3.9.1->-r requirements.txt (line 6))\n",
      "  Using cached click-8.1.8-py3-none-any.whl.metadata (2.3 kB)\n",
      "Collecting regex>=2021.8.3 (from nltk==3.9.1->-r requirements.txt (line 6))\n",
      "  Using cached regex-2024.11.6-cp310-cp310-macosx_11_0_arm64.whl.metadata (40 kB)\n",
      "Collecting tqdm (from nltk==3.9.1->-r requirements.txt (line 6))\n",
      "  Using cached tqdm-4.67.1-py3-none-any.whl.metadata (57 kB)\n",
      "Collecting packaging (from gunicorn==22.0.0->-r requirements.txt (line 7))\n",
      "  Using cached packaging-24.2-py3-none-any.whl.metadata (3.2 kB)\n",
      "Collecting contourpy>=1.0.1 (from matplotlib==3.7.1->-r requirements.txt (line 8))\n",
      "  Using cached contourpy-1.3.1-cp310-cp310-macosx_11_0_arm64.whl.metadata (5.4 kB)\n",
      "Collecting cycler>=0.10 (from matplotlib==3.7.1->-r requirements.txt (line 8))\n",
      "  Using cached cycler-0.12.1-py3-none-any.whl.metadata (3.8 kB)\n",
      "Collecting fonttools>=4.22.0 (from matplotlib==3.7.1->-r requirements.txt (line 8))\n",
      "  Using cached fonttools-4.55.3-cp310-cp310-macosx_10_9_universal2.whl.metadata (165 kB)\n",
      "Collecting kiwisolver>=1.0.1 (from matplotlib==3.7.1->-r requirements.txt (line 8))\n",
      "  Using cached kiwisolver-1.4.8-cp310-cp310-macosx_11_0_arm64.whl.metadata (6.2 kB)\n",
      "Collecting pyparsing>=2.3.1 (from matplotlib==3.7.1->-r requirements.txt (line 8))\n",
      "  Using cached pyparsing-3.2.1-py3-none-any.whl.metadata (5.0 kB)\n",
      "Collecting MarkupSafe>=2.0 (from Jinja2==3.1.2->-r requirements.txt (line 12))\n",
      "  Using cached MarkupSafe-3.0.2-cp310-cp310-macosx_11_0_arm64.whl.metadata (4.0 kB)\n",
      "Collecting six>=1.5 (from python-dateutil>=2.8.1->pandas==1.5.3->-r requirements.txt (line 2))\n",
      "  Using cached six-1.17.0-py2.py3-none-any.whl.metadata (1.7 kB)\n",
      "Using cached numpy-1.23.5-cp310-cp310-macosx_11_0_arm64.whl (13.4 MB)\n",
      "Using cached pandas-1.5.3-cp310-cp310-macosx_11_0_arm64.whl (10.9 MB)\n",
      "Using cached scikit_learn-1.5.0-cp310-cp310-macosx_12_0_arm64.whl (11.0 MB)\n",
      "Using cached xgboost-1.7.6-py3-none-macosx_12_0_arm64.whl (1.6 MB)\n",
      "Using cached joblib-1.2.0-py3-none-any.whl (297 kB)\n",
      "Using cached nltk-3.9.1-py3-none-any.whl (1.5 MB)\n",
      "Using cached gunicorn-22.0.0-py3-none-any.whl (84 kB)\n",
      "Using cached matplotlib-3.7.1-cp310-cp310-macosx_11_0_arm64.whl (7.3 MB)\n",
      "Using cached seaborn-0.12.2-py3-none-any.whl (293 kB)\n",
      "Using cached pillow-10.3.0-cp310-cp310-macosx_11_0_arm64.whl (3.4 MB)\n",
      "Using cached Jinja2-3.1.2-py3-none-any.whl (133 kB)\n",
      "Using cached contourpy-1.3.1-cp310-cp310-macosx_11_0_arm64.whl (253 kB)\n",
      "Using cached cycler-0.12.1-py3-none-any.whl (8.3 kB)\n",
      "Using cached fonttools-4.55.3-cp310-cp310-macosx_10_9_universal2.whl (2.8 MB)\n",
      "Using cached kiwisolver-1.4.8-cp310-cp310-macosx_11_0_arm64.whl (65 kB)\n",
      "Using cached MarkupSafe-3.0.2-cp310-cp310-macosx_11_0_arm64.whl (12 kB)\n",
      "Using cached packaging-24.2-py3-none-any.whl (65 kB)\n",
      "Using cached pyparsing-3.2.1-py3-none-any.whl (107 kB)\n",
      "Using cached python_dateutil-2.9.0.post0-py2.py3-none-any.whl (229 kB)\n",
      "Using cached pytz-2024.2-py2.py3-none-any.whl (508 kB)\n",
      "Using cached regex-2024.11.6-cp310-cp310-macosx_11_0_arm64.whl (284 kB)\n",
      "Using cached scipy-1.14.1-cp310-cp310-macosx_14_0_arm64.whl (23.1 MB)\n",
      "Using cached threadpoolctl-3.5.0-py3-none-any.whl (18 kB)\n",
      "Using cached click-8.1.8-py3-none-any.whl (98 kB)\n",
      "Using cached tqdm-4.67.1-py3-none-any.whl (78 kB)\n",
      "Using cached six-1.17.0-py2.py3-none-any.whl (11 kB)\n",
      "Installing collected packages: pytz, tqdm, threadpoolctl, six, regex, pyparsing, pillow, packaging, numpy, MarkupSafe, kiwisolver, joblib, fonttools, cycler, click, scipy, python-dateutil, nltk, Jinja2, gunicorn, contourpy, xgboost, scikit-learn, pandas, matplotlib, wordcloud, seaborn\n",
      "  Attempting uninstall: pytz\n",
      "    Found existing installation: pytz 2024.2\n",
      "    Uninstalling pytz-2024.2:\n",
      "      Successfully uninstalled pytz-2024.2\n",
      "  Attempting uninstall: tqdm\n",
      "    Found existing installation: tqdm 4.67.1\n",
      "    Uninstalling tqdm-4.67.1:\n",
      "      Successfully uninstalled tqdm-4.67.1\n",
      "  Attempting uninstall: threadpoolctl\n",
      "    Found existing installation: threadpoolctl 3.5.0\n",
      "    Uninstalling threadpoolctl-3.5.0:\n",
      "      Successfully uninstalled threadpoolctl-3.5.0\n",
      "  Attempting uninstall: six\n",
      "    Found existing installation: six 1.17.0\n",
      "    Uninstalling six-1.17.0:\n",
      "      Successfully uninstalled six-1.17.0\n",
      "  Attempting uninstall: regex\n",
      "    Found existing installation: regex 2024.11.6\n",
      "    Uninstalling regex-2024.11.6:\n",
      "      Successfully uninstalled regex-2024.11.6\n",
      "  Attempting uninstall: pyparsing\n",
      "    Found existing installation: pyparsing 3.2.1\n",
      "    Uninstalling pyparsing-3.2.1:\n",
      "      Successfully uninstalled pyparsing-3.2.1\n",
      "  Attempting uninstall: pillow\n",
      "    Found existing installation: pillow 10.3.0\n",
      "    Uninstalling pillow-10.3.0:\n",
      "      Successfully uninstalled pillow-10.3.0\n",
      "  Attempting uninstall: packaging\n",
      "    Found existing installation: packaging 24.2\n",
      "    Uninstalling packaging-24.2:\n",
      "      Successfully uninstalled packaging-24.2\n",
      "  Attempting uninstall: numpy\n",
      "    Found existing installation: numpy 1.23.5\n",
      "    Uninstalling numpy-1.23.5:\n",
      "      Successfully uninstalled numpy-1.23.5\n",
      "  Attempting uninstall: MarkupSafe\n",
      "    Found existing installation: MarkupSafe 3.0.2\n",
      "    Uninstalling MarkupSafe-3.0.2:\n",
      "      Successfully uninstalled MarkupSafe-3.0.2\n",
      "  Attempting uninstall: kiwisolver\n",
      "    Found existing installation: kiwisolver 1.4.8\n",
      "    Uninstalling kiwisolver-1.4.8:\n",
      "      Successfully uninstalled kiwisolver-1.4.8\n",
      "  Attempting uninstall: joblib\n",
      "    Found existing installation: joblib 1.2.0\n",
      "    Uninstalling joblib-1.2.0:\n",
      "      Successfully uninstalled joblib-1.2.0\n",
      "  Attempting uninstall: fonttools\n",
      "    Found existing installation: fonttools 4.55.3\n",
      "    Uninstalling fonttools-4.55.3:\n",
      "      Successfully uninstalled fonttools-4.55.3\n",
      "  Attempting uninstall: cycler\n",
      "    Found existing installation: cycler 0.12.1\n",
      "    Uninstalling cycler-0.12.1:\n",
      "      Successfully uninstalled cycler-0.12.1\n",
      "  Attempting uninstall: click\n",
      "    Found existing installation: click 8.1.8\n",
      "    Uninstalling click-8.1.8:\n",
      "      Successfully uninstalled click-8.1.8\n",
      "  Attempting uninstall: scipy\n",
      "    Found existing installation: scipy 1.14.1\n",
      "    Uninstalling scipy-1.14.1:\n",
      "      Successfully uninstalled scipy-1.14.1\n",
      "  Attempting uninstall: python-dateutil\n",
      "    Found existing installation: python-dateutil 2.9.0.post0\n",
      "    Uninstalling python-dateutil-2.9.0.post0:\n",
      "      Successfully uninstalled python-dateutil-2.9.0.post0\n",
      "  Attempting uninstall: nltk\n",
      "    Found existing installation: nltk 3.9.1\n",
      "    Uninstalling nltk-3.9.1:\n",
      "      Successfully uninstalled nltk-3.9.1\n",
      "  Attempting uninstall: Jinja2\n",
      "    Found existing installation: Jinja2 3.1.2\n",
      "    Uninstalling Jinja2-3.1.2:\n",
      "      Successfully uninstalled Jinja2-3.1.2\n",
      "  Attempting uninstall: gunicorn\n",
      "    Found existing installation: gunicorn 22.0.0\n",
      "    Uninstalling gunicorn-22.0.0:\n",
      "      Successfully uninstalled gunicorn-22.0.0\n",
      "  Attempting uninstall: contourpy\n",
      "    Found existing installation: contourpy 1.3.1\n",
      "    Uninstalling contourpy-1.3.1:\n",
      "      Successfully uninstalled contourpy-1.3.1\n",
      "  Attempting uninstall: xgboost\n",
      "    Found existing installation: xgboost 1.7.6\n",
      "    Uninstalling xgboost-1.7.6:\n",
      "      Successfully uninstalled xgboost-1.7.6\n",
      "  Attempting uninstall: scikit-learn\n",
      "    Found existing installation: scikit-learn 1.5.0\n",
      "    Uninstalling scikit-learn-1.5.0:\n",
      "      Successfully uninstalled scikit-learn-1.5.0\n",
      "  Attempting uninstall: pandas\n",
      "    Found existing installation: pandas 1.5.3\n",
      "    Uninstalling pandas-1.5.3:\n",
      "      Successfully uninstalled pandas-1.5.3\n",
      "  Attempting uninstall: matplotlib\n",
      "    Found existing installation: matplotlib 3.7.1\n",
      "    Uninstalling matplotlib-3.7.1:\n",
      "      Successfully uninstalled matplotlib-3.7.1\n",
      "  Attempting uninstall: wordcloud\n",
      "    Found existing installation: wordcloud 1.8.2.2\n",
      "    Uninstalling wordcloud-1.8.2.2:\n",
      "      Successfully uninstalled wordcloud-1.8.2.2\n",
      "  Attempting uninstall: seaborn\n",
      "    Found existing installation: seaborn 0.12.2\n",
      "    Uninstalling seaborn-0.12.2:\n",
      "      Successfully uninstalled seaborn-0.12.2\n",
      "Successfully installed Jinja2-3.1.2 MarkupSafe-3.0.2 click-8.1.8 contourpy-1.3.1 cycler-0.12.1 fonttools-4.55.3 gunicorn-22.0.0 joblib-1.2.0 kiwisolver-1.4.8 matplotlib-3.7.1 nltk-3.9.1 numpy-1.23.5 packaging-24.2 pandas-1.5.3 pillow-10.3.0 pyparsing-3.2.1 python-dateutil-2.9.0.post0 pytz-2024.2 regex-2024.11.6 scikit-learn-1.5.0 scipy-1.14.1 seaborn-0.12.2 six-1.17.0 threadpoolctl-3.5.0 tqdm-4.67.1 wordcloud-1.8.2.2 xgboost-1.7.6\n"
     ]
    }
   ],
   "source": [
    "!pip install --force-reinstall -r requirements.txt"
   ]
  },
  {
   "cell_type": "markdown",
   "id": "e1fea122",
   "metadata": {
    "papermill": {
     "duration": 0.016256,
     "end_time": "2024-11-14T05:24:32.163158",
     "exception": false,
     "start_time": "2024-11-14T05:24:32.146902",
     "status": "completed"
    },
    "tags": []
   },
   "source": [
    "<a id=\"top\"></a>\n",
    "<div style=\"text-align: center; background: #ff8c00; font-family: 'Montserrat', sans-serif; color: white; padding: 15px; font-size: 30px; font-weight: bold; line-height: 1; border-radius: 20px 20px 0 0; margin-bottom: 20px; box-shadow: 0px 4px 6px rgba(0, 0, 0, 0.2);\">🚀 SMS Spam Classification: Detecting Unwanted Messages 🚀</div>\n",
    "<div style=\"text-align: center;\">\n",
    "    <img src=\"https://miro.medium.com/v2/resize:fit:720/format:webp/0*mbFBPcPUJD-53v3h.png\">\n",
    "</div>\n"
   ]
  },
  {
   "cell_type": "markdown",
   "id": "53323339",
   "metadata": {
    "papermill": {
     "duration": 0.015469,
     "end_time": "2024-11-14T05:24:32.195056",
     "exception": false,
     "start_time": "2024-11-14T05:24:32.179587",
     "status": "completed"
    },
    "tags": []
   },
   "source": [
    "<center><a href=\"https://www.buymeacoffee.com/zabih\" target=\"_blank\"><img src=\"https://www.codehim.com/wp-content/uploads/2022/09/bmc-button-640x180.png.webp\" alt=\"Buy Me A Coffee\" style=\"height: 100px; width: 400px; box-shadow: 0px 3px 2px 0px rgba(190, 190, 190, 0.5) !important;-webkit-box-shadow: 0px 3px 2px 0px rgba(190, 190, 190, 0.5) !important;\" ></a></center>\n"
   ]
  },
  {
   "cell_type": "markdown",
   "id": "939137c5",
   "metadata": {
    "papermill": {
     "duration": 0.015968,
     "end_time": "2024-11-14T05:24:32.227098",
     "exception": false,
     "start_time": "2024-11-14T05:24:32.211130",
     "status": "completed"
    },
    "tags": []
   },
   "source": [
    "<div style=\"text-align: center; background: #1ED760; font-family: 'Trebuchet MS', Arial, sans-serif; color: white; padding: 15px; font-size: 26px; font-weight: bold; line-height: 1; border-radius: 50% 0 50% 0 / 40px; margin-bottom: 20px; box-shadow: 0px 4px 6px rgba(0, 0, 0, 0.1);\">Life Cycle of the Project</div>\n"
   ]
  },
  {
   "cell_type": "markdown",
   "id": "dcba5129",
   "metadata": {
    "papermill": {
     "duration": 0.015903,
     "end_time": "2024-11-14T05:24:32.258922",
     "exception": false,
     "start_time": "2024-11-14T05:24:32.243019",
     "status": "completed"
    },
    "tags": []
   },
   "source": [
    "<div style=\"font-size: 14px; font-family: Verdana; border: 2px solid #ccc; background-color: #F5F5F5; padding: 10px; border-radius: 10px; margin-bottom: 20px; position: relative;\">\n",
    "\n",
    "  <!-- Add the image inside the div, aligned to the right-center -->\n",
    "   <img src=\"https://media.giphy.com/media/2lQzj96U6fb5qbknOW/giphy.gif\" style=\"position: absolute; left:40%; right: 0; transform: translateY(-50%); width: 200px; height: auto;\">\n",
    "   <img src=\"https://media.giphy.com/media/2lQzj96U6fb5qbknOW/giphy.gif\" style=\"position: absolute; left:60%; right: 0; transform: translateY(-50%); width: 200px; height: auto;\">\n",
    "    \n",
    "  <span style=\"color: #FF5733; font-weight: bold;\">Steps to be Performed</span>\n",
    "  <ol>\n",
    "    <li><a href=\"#1\">Introduction</a></li>\n",
    "    <li><a href=\"#2\">Problem Statement 🙋</a></li>\n",
    "    <li><a href=\"#3\">Data Checks to Perform 🔍</a></li>\n",
    "    <li><a href=\"#4\">Data Cleaning 🧹</a></li>\n",
    "    <li><a href=\"#5\">EDA 📊</a></li>\n",
    "    <li><a href=\"#6\">Text Preprocessing ✍️</a></li>\n",
    "    <li><a href=\"#7\">Model Training 🤖</a></li>\n",
    "    <li><a href=\"#8\">Evaluation 📈</a></li>\n",
    "    <li><a href=\"#9\">Conclusion 🎉</a></li>\n",
    "    <li><a href=\"#10\">Author Message ✉️</a></li>\n",
    "  </ol>\n",
    "</div>\n"
   ]
  },
  {
   "cell_type": "markdown",
   "id": "8f18c93c",
   "metadata": {
    "papermill": {
     "duration": 0.015389,
     "end_time": "2024-11-14T05:24:32.290159",
     "exception": false,
     "start_time": "2024-11-14T05:24:32.274770",
     "status": "completed"
    },
    "tags": []
   },
   "source": [
    "<a id=\"1\"></a>\n",
    "<div style=\"text-align: center; background: #1ED760; font-family: 'Trebuchet MS', Arial, sans-serif; color: white; padding: 15px; font-size: 26px; font-weight: bold; line-height: 1; border-radius: 50% 0 50% 0 / 40px; margin-bottom: 20px; box-shadow: 0px 4px 6px rgba(0, 0, 0, 0.1);\">1. Introduction</div>\n"
   ]
  },
  {
   "cell_type": "markdown",
   "id": "e919a053",
   "metadata": {
    "papermill": {
     "duration": 0.015397,
     "end_time": "2024-11-14T05:24:32.321296",
     "exception": false,
     "start_time": "2024-11-14T05:24:32.305899",
     "status": "completed"
    },
    "tags": []
   },
   "source": [
    "<span style=\"font-size: 14px; font-family: Verdana; background-color: #F5F5F5; border: 2px solid #ccc; padding: 10px; border-radius: 10px; display: inline-block;\">\n",
    "  This Kaggle notebook presents a step-by-step guide to building an efficient SMS <span style=\"background-color: #FF5733; color: white; font-weight: bold; padding: 3px 6px; border-radius: 3px;\">spam</span> classification model using the SMS Spam Collection dataset. By the end of this notebook, you'll have a powerful tool to help you filter out unwanted messages and ensure that your text messaging experience is smoother and safer.\n",
    "</span>\n"
   ]
  },
  {
   "cell_type": "markdown",
   "id": "ca9bd5c8",
   "metadata": {
    "papermill": {
     "duration": 0.015555,
     "end_time": "2024-11-14T05:24:32.352506",
     "exception": false,
     "start_time": "2024-11-14T05:24:32.336951",
     "status": "completed"
    },
    "tags": []
   },
   "source": [
    "<a id=\"2\"></a>\n",
    "<div style=\"text-align: center; background: #1ED760; font-family: 'Trebuchet MS', Arial, sans-serif; color: white; padding: 15px; font-size: 26px; font-weight: bold; line-height: 1; border-radius: 50% 0 50% 0 / 40px; margin-bottom: 20px; box-shadow: 0px 4px 6px rgba(0, 0, 0, 0.1);\">2. Problem Statement</div>\n"
   ]
  },
  {
   "cell_type": "markdown",
   "id": "d9720fd4",
   "metadata": {
    "papermill": {
     "duration": 0.015528,
     "end_time": "2024-11-14T05:24:32.383696",
     "exception": false,
     "start_time": "2024-11-14T05:24:32.368168",
     "status": "completed"
    },
    "tags": []
   },
   "source": [
    "<span style=\"font-size: 14px; font-family: Verdana; border: 2px solid #ccc;background-color: #F5F5F5; padding: 10px; border-radius: 10px; display: inline-block; margin-bottom: 20px;\">\n",
    "  The primary goal of this notebook is to develop a predictive model that accurately classifies incoming SMS messages as either <span style=\"background-color: #FF5733; color: white; font-weight: bold; padding: 3px 6px; border-radius: 3px;\">ham</span> or <span style=\"background-color: #FF5733; color: white; font-weight: bold; padding: 3px 6px; border-radius: 3px;\">spam</span>. We will use the SMS Spam Collection dataset, which consists of 5,574 SMS messages tagged with their respective labels.\n",
    "</span>\n"
   ]
  },
  {
   "cell_type": "markdown",
   "id": "b492dcde",
   "metadata": {
    "papermill": {
     "duration": 0.077903,
     "end_time": "2024-11-14T05:24:32.478499",
     "exception": false,
     "start_time": "2024-11-14T05:24:32.400596",
     "status": "completed"
    },
    "tags": []
   },
   "source": [
    "<a id=\"3\"></a>\n",
    "<div style=\"text-align: center; background: #1ED760; font-family: 'Trebuchet MS', Arial, sans-serif; color: white; padding: 15px; font-size: 26px; font-weight: bold; line-height: 1; border-radius: 50% 0 50% 0 / 40px; margin-bottom: 20px; box-shadow: 0px 4px 6px rgba(0, 0, 0, 0.1);\">3. Data Checks to Perform 🔍</div>"
   ]
  },
  {
   "cell_type": "markdown",
   "id": "b69d01df",
   "metadata": {
    "papermill": {
     "duration": 0.015825,
     "end_time": "2024-11-14T05:24:32.510316",
     "exception": false,
     "start_time": "2024-11-14T05:24:32.494491",
     "status": "completed"
    },
    "tags": []
   },
   "source": [
    "\n"
   ]
  },
  {
   "cell_type": "markdown",
   "id": "6e0e7976",
   "metadata": {
    "papermill": {
     "duration": 0.015619,
     "end_time": "2024-11-14T05:24:32.542256",
     "exception": false,
     "start_time": "2024-11-14T05:24:32.526637",
     "status": "completed"
    },
    "tags": []
   },
   "source": [
    "<div style=\"text-align: center; background:  #FF00CC; font-family: 'Trebuchet MS', Arial, sans-serif; color: white; padding: 15px; font-size: 26px; font-weight: bold; line-height: 1; border-radius: 50% 0 50% 0 / 40px; margin-bottom: 20px; box-shadow: 0px 4px 6px rgba(0, 0, 0, 0.1);\">3.1 Import Necessary Libraries</div>\n"
   ]
  },
  {
   "cell_type": "code",
   "execution_count": 270,
   "id": "674a9bc3",
   "metadata": {
    "execution": {
     "iopub.execute_input": "2024-11-14T05:24:32.576704Z",
     "iopub.status.busy": "2024-11-14T05:24:32.576307Z",
     "iopub.status.idle": "2024-11-14T05:24:36.040173Z",
     "shell.execute_reply": "2024-11-14T05:24:36.038758Z"
    },
    "papermill": {
     "duration": 3.484681,
     "end_time": "2024-11-14T05:24:36.042948",
     "exception": false,
     "start_time": "2024-11-14T05:24:32.558267",
     "status": "completed"
    },
    "tags": []
   },
   "outputs": [
    {
     "name": "stderr",
     "output_type": "stream",
     "text": [
      "[nltk_data] Downloading package stopwords to\n",
      "[nltk_data]     /Users/peterfalterbaum/nltk_data...\n",
      "[nltk_data]   Package stopwords is already up-to-date!\n",
      "[nltk_data] Downloading package punkt to\n",
      "[nltk_data]     /Users/peterfalterbaum/nltk_data...\n",
      "[nltk_data]   Package punkt is already up-to-date!\n"
     ]
    },
    {
     "data": {
      "text/plain": [
       "True"
      ]
     },
     "execution_count": 270,
     "metadata": {},
     "output_type": "execute_result"
    }
   ],
   "source": [
    "# Importing necessary libraries\n",
    "import numpy as np        # For numerical operations\n",
    "import pandas as pd       # For data manipulation and analysis\n",
    "import matplotlib.pyplot as plt  # For data visualization\n",
    "%matplotlib inline\n",
    "\n",
    "# Importing WordCloud for text visualization\n",
    "from wordcloud import WordCloud\n",
    "\n",
    "# Importing NLTK for natural language processing\n",
    "import nltk\n",
    "from nltk.corpus import stopwords    # For stopwords\n",
    "\n",
    "\n",
    "# Downloading NLTK data\n",
    "nltk.download('stopwords')   # Downloading stopwords data\n",
    "nltk.download('punkt')       # Downloading tokenizer data\n"
   ]
  },
  {
   "cell_type": "markdown",
   "id": "c68fcb22",
   "metadata": {
    "papermill": {
     "duration": 0.016612,
     "end_time": "2024-11-14T05:24:36.077109",
     "exception": false,
     "start_time": "2024-11-14T05:24:36.060497",
     "status": "completed"
    },
    "tags": []
   },
   "source": [
    "<center> <a href=\"#top\" role=\"button\" aria-pressed=\"true\" >⬆️Back to the Top ⬆️</a>"
   ]
  },
  {
   "cell_type": "markdown",
   "id": "1c197a3e",
   "metadata": {
    "papermill": {
     "duration": 0.016743,
     "end_time": "2024-11-14T05:24:36.110190",
     "exception": false,
     "start_time": "2024-11-14T05:24:36.093447",
     "status": "completed"
    },
    "tags": []
   },
   "source": [
    "<div style=\"text-align: center; background:  #FF00CC; font-family: 'Trebuchet MS', Arial, sans-serif; color: white; padding: 15px; font-size: 26px; font-weight: bold; line-height: 1; border-radius: 50% 0 50% 0 / 40px; margin-bottom: 20px; box-shadow: 0px 4px 6px rgba(0, 0, 0, 0.1);\">3.2 Load the Data</div>\n"
   ]
  },
  {
   "cell_type": "code",
   "execution_count": 271,
   "id": "b6732993",
   "metadata": {
    "execution": {
     "iopub.execute_input": "2024-11-14T05:24:36.145670Z",
     "iopub.status.busy": "2024-11-14T05:24:36.145144Z",
     "iopub.status.idle": "2024-11-14T05:24:36.202687Z",
     "shell.execute_reply": "2024-11-14T05:24:36.201579Z"
    },
    "papermill": {
     "duration": 0.07848,
     "end_time": "2024-11-14T05:24:36.205864",
     "exception": false,
     "start_time": "2024-11-14T05:24:36.127384",
     "status": "completed"
    },
    "tags": []
   },
   "outputs": [],
   "source": [
    "df = pd.read_csv('spam.csv', encoding='latin1')"
   ]
  },
  {
   "cell_type": "code",
   "execution_count": 272,
   "id": "e30309b1",
   "metadata": {
    "execution": {
     "iopub.execute_input": "2024-11-14T05:24:36.241321Z",
     "iopub.status.busy": "2024-11-14T05:24:36.240926Z",
     "iopub.status.idle": "2024-11-14T05:24:36.355638Z",
     "shell.execute_reply": "2024-11-14T05:24:36.354261Z"
    },
    "papermill": {
     "duration": 0.135507,
     "end_time": "2024-11-14T05:24:36.358420",
     "exception": false,
     "start_time": "2024-11-14T05:24:36.222913",
     "status": "completed"
    },
    "tags": []
   },
   "outputs": [
    {
     "data": {
      "text/html": [
       "<style type=\"text/css\">\n",
       "#T_a33e4 th {\n",
       "  color: black;\n",
       "  background-color: #FF00CC;\n",
       "}\n",
       "</style>\n",
       "<table id=\"T_a33e4\">\n",
       "  <thead>\n",
       "    <tr>\n",
       "      <th class=\"blank level0\" >&nbsp;</th>\n",
       "      <th id=\"T_a33e4_level0_col0\" class=\"col_heading level0 col0\" >v1</th>\n",
       "      <th id=\"T_a33e4_level0_col1\" class=\"col_heading level0 col1\" >v2</th>\n",
       "      <th id=\"T_a33e4_level0_col2\" class=\"col_heading level0 col2\" >Unnamed: 2</th>\n",
       "      <th id=\"T_a33e4_level0_col3\" class=\"col_heading level0 col3\" >Unnamed: 3</th>\n",
       "      <th id=\"T_a33e4_level0_col4\" class=\"col_heading level0 col4\" >Unnamed: 4</th>\n",
       "    </tr>\n",
       "  </thead>\n",
       "  <tbody>\n",
       "    <tr>\n",
       "      <th id=\"T_a33e4_level0_row0\" class=\"row_heading level0 row0\" >0</th>\n",
       "      <td id=\"T_a33e4_row0_col0\" class=\"data row0 col0\" >ham</td>\n",
       "      <td id=\"T_a33e4_row0_col1\" class=\"data row0 col1\" >Go until jurong point, crazy.. Available only in bugis n great world la e buffet... Cine there got amore wat...</td>\n",
       "      <td id=\"T_a33e4_row0_col2\" class=\"data row0 col2\" >nan</td>\n",
       "      <td id=\"T_a33e4_row0_col3\" class=\"data row0 col3\" >nan</td>\n",
       "      <td id=\"T_a33e4_row0_col4\" class=\"data row0 col4\" >nan</td>\n",
       "    </tr>\n",
       "    <tr>\n",
       "      <th id=\"T_a33e4_level0_row1\" class=\"row_heading level0 row1\" >1</th>\n",
       "      <td id=\"T_a33e4_row1_col0\" class=\"data row1 col0\" >ham</td>\n",
       "      <td id=\"T_a33e4_row1_col1\" class=\"data row1 col1\" >Ok lar... Joking wif u oni...</td>\n",
       "      <td id=\"T_a33e4_row1_col2\" class=\"data row1 col2\" >nan</td>\n",
       "      <td id=\"T_a33e4_row1_col3\" class=\"data row1 col3\" >nan</td>\n",
       "      <td id=\"T_a33e4_row1_col4\" class=\"data row1 col4\" >nan</td>\n",
       "    </tr>\n",
       "    <tr>\n",
       "      <th id=\"T_a33e4_level0_row2\" class=\"row_heading level0 row2\" >2</th>\n",
       "      <td id=\"T_a33e4_row2_col0\" class=\"data row2 col0\" >spam</td>\n",
       "      <td id=\"T_a33e4_row2_col1\" class=\"data row2 col1\" >Free entry in 2 a wkly comp to win FA Cup final tkts 21st May 2005. Text FA to 87121 to receive entry question(std txt rate)T&C's apply 08452810075over18's</td>\n",
       "      <td id=\"T_a33e4_row2_col2\" class=\"data row2 col2\" >nan</td>\n",
       "      <td id=\"T_a33e4_row2_col3\" class=\"data row2 col3\" >nan</td>\n",
       "      <td id=\"T_a33e4_row2_col4\" class=\"data row2 col4\" >nan</td>\n",
       "    </tr>\n",
       "    <tr>\n",
       "      <th id=\"T_a33e4_level0_row3\" class=\"row_heading level0 row3\" >3</th>\n",
       "      <td id=\"T_a33e4_row3_col0\" class=\"data row3 col0\" >ham</td>\n",
       "      <td id=\"T_a33e4_row3_col1\" class=\"data row3 col1\" >U dun say so early hor... U c already then say...</td>\n",
       "      <td id=\"T_a33e4_row3_col2\" class=\"data row3 col2\" >nan</td>\n",
       "      <td id=\"T_a33e4_row3_col3\" class=\"data row3 col3\" >nan</td>\n",
       "      <td id=\"T_a33e4_row3_col4\" class=\"data row3 col4\" >nan</td>\n",
       "    </tr>\n",
       "    <tr>\n",
       "      <th id=\"T_a33e4_level0_row4\" class=\"row_heading level0 row4\" >4</th>\n",
       "      <td id=\"T_a33e4_row4_col0\" class=\"data row4 col0\" >ham</td>\n",
       "      <td id=\"T_a33e4_row4_col1\" class=\"data row4 col1\" >Nah I don't think he goes to usf, he lives around here though</td>\n",
       "      <td id=\"T_a33e4_row4_col2\" class=\"data row4 col2\" >nan</td>\n",
       "      <td id=\"T_a33e4_row4_col3\" class=\"data row4 col3\" >nan</td>\n",
       "      <td id=\"T_a33e4_row4_col4\" class=\"data row4 col4\" >nan</td>\n",
       "    </tr>\n",
       "  </tbody>\n",
       "</table>\n"
      ],
      "text/plain": [
       "<pandas.io.formats.style.Styler at 0x167957160>"
      ]
     },
     "execution_count": 272,
     "metadata": {},
     "output_type": "execute_result"
    }
   ],
   "source": [
    "styled_df = df.head()\n",
    "styled_df = styled_df.style.set_table_styles([\n",
    "    {\"selector\": \"th\", \"props\": [(\"color\", 'black'), (\"background-color\", \"#FF00CC\")]}\n",
    "])\n",
    "styled_df"
   ]
  },
  {
   "cell_type": "markdown",
   "id": "f9e476b0",
   "metadata": {
    "papermill": {
     "duration": 0.016915,
     "end_time": "2024-11-14T05:24:36.393385",
     "exception": false,
     "start_time": "2024-11-14T05:24:36.376470",
     "status": "completed"
    },
    "tags": []
   },
   "source": [
    "<center> <a href=\"#top\" role=\"button\" aria-pressed=\"true\" >⬆️Back to the Top ⬆️</a>"
   ]
  },
  {
   "cell_type": "markdown",
   "id": "47003c97",
   "metadata": {
    "papermill": {
     "duration": 0.016993,
     "end_time": "2024-11-14T05:24:36.427343",
     "exception": false,
     "start_time": "2024-11-14T05:24:36.410350",
     "status": "completed"
    },
    "tags": []
   },
   "source": [
    "<a id=\"4\"></a>\n",
    "<div style=\"text-align: center; background:  #FF00CC; font-family: 'Trebuchet MS', Arial, sans-serif; color: white; padding: 15px; font-size: 26px; font-weight: bold; line-height: 1; border-radius: 50% 0 50% 0 / 40px; margin-bottom: 20px; box-shadow: 0px 4px 6px rgba(0, 0, 0, 0.1);\">4. Data Cleaning</div>\n"
   ]
  },
  {
   "cell_type": "markdown",
   "id": "fc7ee311",
   "metadata": {
    "papermill": {
     "duration": 0.018135,
     "end_time": "2024-11-14T05:24:36.464303",
     "exception": false,
     "start_time": "2024-11-14T05:24:36.446168",
     "status": "completed"
    },
    "tags": []
   },
   "source": [
    "> <span style='font-size:15px; font-family:Verdana;color: #FF00CC;'><b>4.1 | Data Info</b></span>"
   ]
  },
  {
   "cell_type": "code",
   "execution_count": 273,
   "id": "15cabdfb",
   "metadata": {
    "execution": {
     "iopub.execute_input": "2024-11-14T05:24:36.500802Z",
     "iopub.status.busy": "2024-11-14T05:24:36.500222Z",
     "iopub.status.idle": "2024-11-14T05:24:36.535254Z",
     "shell.execute_reply": "2024-11-14T05:24:36.533655Z"
    },
    "papermill": {
     "duration": 0.055981,
     "end_time": "2024-11-14T05:24:36.537957",
     "exception": false,
     "start_time": "2024-11-14T05:24:36.481976",
     "status": "completed"
    },
    "tags": []
   },
   "outputs": [
    {
     "name": "stdout",
     "output_type": "stream",
     "text": [
      "<class 'pandas.core.frame.DataFrame'>\n",
      "RangeIndex: 5572 entries, 0 to 5571\n",
      "Data columns (total 5 columns):\n",
      " #   Column      Non-Null Count  Dtype \n",
      "---  ------      --------------  ----- \n",
      " 0   v1          5572 non-null   object\n",
      " 1   v2          5572 non-null   object\n",
      " 2   Unnamed: 2  50 non-null     object\n",
      " 3   Unnamed: 3  12 non-null     object\n",
      " 4   Unnamed: 4  6 non-null      object\n",
      "dtypes: object(5)\n",
      "memory usage: 217.8+ KB\n"
     ]
    }
   ],
   "source": [
    "df.info()"
   ]
  },
  {
   "cell_type": "markdown",
   "id": "c30b759e",
   "metadata": {
    "papermill": {
     "duration": 0.01658,
     "end_time": "2024-11-14T05:24:36.571482",
     "exception": false,
     "start_time": "2024-11-14T05:24:36.554902",
     "status": "completed"
    },
    "tags": []
   },
   "source": [
    "> <span style='font-size:15px; font-family:Verdana;color: #FF00CC;'><b>4.2 | Drop the Columns</b></span>"
   ]
  },
  {
   "cell_type": "code",
   "execution_count": 274,
   "id": "28c91703",
   "metadata": {
    "execution": {
     "iopub.execute_input": "2024-11-14T05:24:36.607166Z",
     "iopub.status.busy": "2024-11-14T05:24:36.606739Z",
     "iopub.status.idle": "2024-11-14T05:24:36.618068Z",
     "shell.execute_reply": "2024-11-14T05:24:36.616592Z"
    },
    "papermill": {
     "duration": 0.032016,
     "end_time": "2024-11-14T05:24:36.620700",
     "exception": false,
     "start_time": "2024-11-14T05:24:36.588684",
     "status": "completed"
    },
    "tags": []
   },
   "outputs": [],
   "source": [
    "# df.drop(columns = ['Unnamed: 2', 'Unnamed: 3', 'Unnamed: 4'], inplace = True)"
   ]
  },
  {
   "cell_type": "code",
   "execution_count": 275,
   "id": "b6f9abc6",
   "metadata": {
    "execution": {
     "iopub.execute_input": "2024-11-14T05:24:36.656132Z",
     "iopub.status.busy": "2024-11-14T05:24:36.655696Z",
     "iopub.status.idle": "2024-11-14T05:24:36.667976Z",
     "shell.execute_reply": "2024-11-14T05:24:36.666771Z"
    },
    "papermill": {
     "duration": 0.032792,
     "end_time": "2024-11-14T05:24:36.670330",
     "exception": false,
     "start_time": "2024-11-14T05:24:36.637538",
     "status": "completed"
    },
    "tags": []
   },
   "outputs": [
    {
     "data": {
      "text/html": [
       "<style type=\"text/css\">\n",
       "#T_e8c52 th {\n",
       "  color: Black;\n",
       "  background-color: #FF00CC;\n",
       "  font-weight: bold;\n",
       "}\n",
       "</style>\n",
       "<table id=\"T_e8c52\">\n",
       "  <thead>\n",
       "    <tr>\n",
       "      <th class=\"blank level0\" >&nbsp;</th>\n",
       "      <th id=\"T_e8c52_level0_col0\" class=\"col_heading level0 col0\" >v1</th>\n",
       "      <th id=\"T_e8c52_level0_col1\" class=\"col_heading level0 col1\" >v2</th>\n",
       "      <th id=\"T_e8c52_level0_col2\" class=\"col_heading level0 col2\" >Unnamed: 2</th>\n",
       "      <th id=\"T_e8c52_level0_col3\" class=\"col_heading level0 col3\" >Unnamed: 3</th>\n",
       "      <th id=\"T_e8c52_level0_col4\" class=\"col_heading level0 col4\" >Unnamed: 4</th>\n",
       "    </tr>\n",
       "  </thead>\n",
       "  <tbody>\n",
       "    <tr>\n",
       "      <th id=\"T_e8c52_level0_row0\" class=\"row_heading level0 row0\" >0</th>\n",
       "      <td id=\"T_e8c52_row0_col0\" class=\"data row0 col0\" >ham</td>\n",
       "      <td id=\"T_e8c52_row0_col1\" class=\"data row0 col1\" >Go until jurong point, crazy.. Available only in bugis n great world la e buffet... Cine there got amore wat...</td>\n",
       "      <td id=\"T_e8c52_row0_col2\" class=\"data row0 col2\" >nan</td>\n",
       "      <td id=\"T_e8c52_row0_col3\" class=\"data row0 col3\" >nan</td>\n",
       "      <td id=\"T_e8c52_row0_col4\" class=\"data row0 col4\" >nan</td>\n",
       "    </tr>\n",
       "    <tr>\n",
       "      <th id=\"T_e8c52_level0_row1\" class=\"row_heading level0 row1\" >1</th>\n",
       "      <td id=\"T_e8c52_row1_col0\" class=\"data row1 col0\" >ham</td>\n",
       "      <td id=\"T_e8c52_row1_col1\" class=\"data row1 col1\" >Ok lar... Joking wif u oni...</td>\n",
       "      <td id=\"T_e8c52_row1_col2\" class=\"data row1 col2\" >nan</td>\n",
       "      <td id=\"T_e8c52_row1_col3\" class=\"data row1 col3\" >nan</td>\n",
       "      <td id=\"T_e8c52_row1_col4\" class=\"data row1 col4\" >nan</td>\n",
       "    </tr>\n",
       "    <tr>\n",
       "      <th id=\"T_e8c52_level0_row2\" class=\"row_heading level0 row2\" >2</th>\n",
       "      <td id=\"T_e8c52_row2_col0\" class=\"data row2 col0\" >spam</td>\n",
       "      <td id=\"T_e8c52_row2_col1\" class=\"data row2 col1\" >Free entry in 2 a wkly comp to win FA Cup final tkts 21st May 2005. Text FA to 87121 to receive entry question(std txt rate)T&C's apply 08452810075over18's</td>\n",
       "      <td id=\"T_e8c52_row2_col2\" class=\"data row2 col2\" >nan</td>\n",
       "      <td id=\"T_e8c52_row2_col3\" class=\"data row2 col3\" >nan</td>\n",
       "      <td id=\"T_e8c52_row2_col4\" class=\"data row2 col4\" >nan</td>\n",
       "    </tr>\n",
       "    <tr>\n",
       "      <th id=\"T_e8c52_level0_row3\" class=\"row_heading level0 row3\" >3</th>\n",
       "      <td id=\"T_e8c52_row3_col0\" class=\"data row3 col0\" >ham</td>\n",
       "      <td id=\"T_e8c52_row3_col1\" class=\"data row3 col1\" >U dun say so early hor... U c already then say...</td>\n",
       "      <td id=\"T_e8c52_row3_col2\" class=\"data row3 col2\" >nan</td>\n",
       "      <td id=\"T_e8c52_row3_col3\" class=\"data row3 col3\" >nan</td>\n",
       "      <td id=\"T_e8c52_row3_col4\" class=\"data row3 col4\" >nan</td>\n",
       "    </tr>\n",
       "    <tr>\n",
       "      <th id=\"T_e8c52_level0_row4\" class=\"row_heading level0 row4\" >4</th>\n",
       "      <td id=\"T_e8c52_row4_col0\" class=\"data row4 col0\" >ham</td>\n",
       "      <td id=\"T_e8c52_row4_col1\" class=\"data row4 col1\" >Nah I don't think he goes to usf, he lives around here though</td>\n",
       "      <td id=\"T_e8c52_row4_col2\" class=\"data row4 col2\" >nan</td>\n",
       "      <td id=\"T_e8c52_row4_col3\" class=\"data row4 col3\" >nan</td>\n",
       "      <td id=\"T_e8c52_row4_col4\" class=\"data row4 col4\" >nan</td>\n",
       "    </tr>\n",
       "  </tbody>\n",
       "</table>\n"
      ],
      "text/plain": [
       "<pandas.io.formats.style.Styler at 0x1680fc580>"
      ]
     },
     "execution_count": 275,
     "metadata": {},
     "output_type": "execute_result"
    }
   ],
   "source": [
    "styled_df = df.head(5).style\n",
    "\n",
    "\n",
    "# Modify the color and background color of the table headers (th)\n",
    "styled_df.set_table_styles([\n",
    "    {\"selector\": \"th\", \"props\": [(\"color\", 'Black'), (\"background-color\", \"#FF00CC\"), ('font-weight', 'bold')]}\n",
    "])\n"
   ]
  },
  {
   "cell_type": "markdown",
   "id": "fdfd87d6",
   "metadata": {
    "papermill": {
     "duration": 0.019269,
     "end_time": "2024-11-14T05:24:36.707146",
     "exception": false,
     "start_time": "2024-11-14T05:24:36.687877",
     "status": "completed"
    },
    "tags": []
   },
   "source": [
    "> <span style='font-size:15px; font-family:Verdana;color: #FF00CC;'><b>4.3 | Rename the Column</b></span>"
   ]
  },
  {
   "cell_type": "code",
   "execution_count": 276,
   "id": "36ca9332",
   "metadata": {
    "execution": {
     "iopub.execute_input": "2024-11-14T05:24:36.743414Z",
     "iopub.status.busy": "2024-11-14T05:24:36.742994Z",
     "iopub.status.idle": "2024-11-14T05:24:36.749483Z",
     "shell.execute_reply": "2024-11-14T05:24:36.748310Z"
    },
    "papermill": {
     "duration": 0.027392,
     "end_time": "2024-11-14T05:24:36.752068",
     "exception": false,
     "start_time": "2024-11-14T05:24:36.724676",
     "status": "completed"
    },
    "tags": []
   },
   "outputs": [],
   "source": [
    "  # Rename the columns name\n",
    "df.rename(columns = {'v1': 'target', 'v2': 'text'}, inplace = True)"
   ]
  },
  {
   "cell_type": "markdown",
   "id": "b37113c3",
   "metadata": {
    "papermill": {
     "duration": 0.0174,
     "end_time": "2024-11-14T05:24:36.786554",
     "exception": false,
     "start_time": "2024-11-14T05:24:36.769154",
     "status": "completed"
    },
    "tags": []
   },
   "source": [
    "> <span style='font-size:15px; font-family:Verdana;color: #FF00CC;'><b>4.4 | Convert the target variable</b></span>"
   ]
  },
  {
   "cell_type": "code",
   "execution_count": 277,
   "id": "d633cb5a",
   "metadata": {
    "execution": {
     "iopub.execute_input": "2024-11-14T05:24:36.822564Z",
     "iopub.status.busy": "2024-11-14T05:24:36.822165Z",
     "iopub.status.idle": "2024-11-14T05:24:36.829688Z",
     "shell.execute_reply": "2024-11-14T05:24:36.828542Z"
    },
    "papermill": {
     "duration": 0.028299,
     "end_time": "2024-11-14T05:24:36.831989",
     "exception": false,
     "start_time": "2024-11-14T05:24:36.803690",
     "status": "completed"
    },
    "tags": []
   },
   "outputs": [],
   "source": [
    "from sklearn.preprocessing import LabelEncoder\n",
    "encoder = LabelEncoder()\n",
    "df['target'] = encoder.fit_transform(df['target'])"
   ]
  },
  {
   "cell_type": "code",
   "execution_count": 278,
   "id": "1fb19e32",
   "metadata": {
    "execution": {
     "iopub.execute_input": "2024-11-14T05:24:36.869774Z",
     "iopub.status.busy": "2024-11-14T05:24:36.868675Z",
     "iopub.status.idle": "2024-11-14T05:24:36.879520Z",
     "shell.execute_reply": "2024-11-14T05:24:36.878408Z"
    },
    "papermill": {
     "duration": 0.03244,
     "end_time": "2024-11-14T05:24:36.882008",
     "exception": false,
     "start_time": "2024-11-14T05:24:36.849568",
     "status": "completed"
    },
    "tags": []
   },
   "outputs": [
    {
     "data": {
      "text/html": [
       "<style type=\"text/css\">\n",
       "#T_14599 th {\n",
       "  color: Black;\n",
       "  background-color: #FF00CC;\n",
       "  font-weight: bold;\n",
       "}\n",
       "</style>\n",
       "<table id=\"T_14599\">\n",
       "  <thead>\n",
       "    <tr>\n",
       "      <th class=\"blank level0\" >&nbsp;</th>\n",
       "      <th id=\"T_14599_level0_col0\" class=\"col_heading level0 col0\" >target</th>\n",
       "      <th id=\"T_14599_level0_col1\" class=\"col_heading level0 col1\" >text</th>\n",
       "      <th id=\"T_14599_level0_col2\" class=\"col_heading level0 col2\" >Unnamed: 2</th>\n",
       "      <th id=\"T_14599_level0_col3\" class=\"col_heading level0 col3\" >Unnamed: 3</th>\n",
       "      <th id=\"T_14599_level0_col4\" class=\"col_heading level0 col4\" >Unnamed: 4</th>\n",
       "    </tr>\n",
       "  </thead>\n",
       "  <tbody>\n",
       "    <tr>\n",
       "      <th id=\"T_14599_level0_row0\" class=\"row_heading level0 row0\" >0</th>\n",
       "      <td id=\"T_14599_row0_col0\" class=\"data row0 col0\" >0</td>\n",
       "      <td id=\"T_14599_row0_col1\" class=\"data row0 col1\" >Go until jurong point, crazy.. Available only in bugis n great world la e buffet... Cine there got amore wat...</td>\n",
       "      <td id=\"T_14599_row0_col2\" class=\"data row0 col2\" >nan</td>\n",
       "      <td id=\"T_14599_row0_col3\" class=\"data row0 col3\" >nan</td>\n",
       "      <td id=\"T_14599_row0_col4\" class=\"data row0 col4\" >nan</td>\n",
       "    </tr>\n",
       "    <tr>\n",
       "      <th id=\"T_14599_level0_row1\" class=\"row_heading level0 row1\" >1</th>\n",
       "      <td id=\"T_14599_row1_col0\" class=\"data row1 col0\" >0</td>\n",
       "      <td id=\"T_14599_row1_col1\" class=\"data row1 col1\" >Ok lar... Joking wif u oni...</td>\n",
       "      <td id=\"T_14599_row1_col2\" class=\"data row1 col2\" >nan</td>\n",
       "      <td id=\"T_14599_row1_col3\" class=\"data row1 col3\" >nan</td>\n",
       "      <td id=\"T_14599_row1_col4\" class=\"data row1 col4\" >nan</td>\n",
       "    </tr>\n",
       "    <tr>\n",
       "      <th id=\"T_14599_level0_row2\" class=\"row_heading level0 row2\" >2</th>\n",
       "      <td id=\"T_14599_row2_col0\" class=\"data row2 col0\" >1</td>\n",
       "      <td id=\"T_14599_row2_col1\" class=\"data row2 col1\" >Free entry in 2 a wkly comp to win FA Cup final tkts 21st May 2005. Text FA to 87121 to receive entry question(std txt rate)T&C's apply 08452810075over18's</td>\n",
       "      <td id=\"T_14599_row2_col2\" class=\"data row2 col2\" >nan</td>\n",
       "      <td id=\"T_14599_row2_col3\" class=\"data row2 col3\" >nan</td>\n",
       "      <td id=\"T_14599_row2_col4\" class=\"data row2 col4\" >nan</td>\n",
       "    </tr>\n",
       "    <tr>\n",
       "      <th id=\"T_14599_level0_row3\" class=\"row_heading level0 row3\" >3</th>\n",
       "      <td id=\"T_14599_row3_col0\" class=\"data row3 col0\" >0</td>\n",
       "      <td id=\"T_14599_row3_col1\" class=\"data row3 col1\" >U dun say so early hor... U c already then say...</td>\n",
       "      <td id=\"T_14599_row3_col2\" class=\"data row3 col2\" >nan</td>\n",
       "      <td id=\"T_14599_row3_col3\" class=\"data row3 col3\" >nan</td>\n",
       "      <td id=\"T_14599_row3_col4\" class=\"data row3 col4\" >nan</td>\n",
       "    </tr>\n",
       "    <tr>\n",
       "      <th id=\"T_14599_level0_row4\" class=\"row_heading level0 row4\" >4</th>\n",
       "      <td id=\"T_14599_row4_col0\" class=\"data row4 col0\" >0</td>\n",
       "      <td id=\"T_14599_row4_col1\" class=\"data row4 col1\" >Nah I don't think he goes to usf, he lives around here though</td>\n",
       "      <td id=\"T_14599_row4_col2\" class=\"data row4 col2\" >nan</td>\n",
       "      <td id=\"T_14599_row4_col3\" class=\"data row4 col3\" >nan</td>\n",
       "      <td id=\"T_14599_row4_col4\" class=\"data row4 col4\" >nan</td>\n",
       "    </tr>\n",
       "  </tbody>\n",
       "</table>\n"
      ],
      "text/plain": [
       "<pandas.io.formats.style.Styler at 0x1748d29e0>"
      ]
     },
     "execution_count": 278,
     "metadata": {},
     "output_type": "execute_result"
    }
   ],
   "source": [
    "styled_df = df.head().style\n",
    "\n",
    "\n",
    "# Modify the color and background color of the table headers (th)\n",
    "styled_df.set_table_styles([\n",
    "    {\"selector\": \"th\", \"props\": [(\"color\", 'Black'), (\"background-color\", \"#FF00CC\"), ('font-weight', 'bold')]}\n",
    "])\n"
   ]
  },
  {
   "cell_type": "markdown",
   "id": "3bdb8bd5",
   "metadata": {
    "papermill": {
     "duration": 0.017499,
     "end_time": "2024-11-14T05:24:36.918007",
     "exception": false,
     "start_time": "2024-11-14T05:24:36.900508",
     "status": "completed"
    },
    "tags": []
   },
   "source": [
    "> <span style='font-size:15px; font-family:Verdana;color: #FF00CC;'><b>4.5 | Check Missing values</b></span>"
   ]
  },
  {
   "cell_type": "code",
   "execution_count": 279,
   "id": "b065544e",
   "metadata": {
    "execution": {
     "iopub.execute_input": "2024-11-14T05:24:36.955528Z",
     "iopub.status.busy": "2024-11-14T05:24:36.955126Z",
     "iopub.status.idle": "2024-11-14T05:24:36.965196Z",
     "shell.execute_reply": "2024-11-14T05:24:36.963994Z"
    },
    "papermill": {
     "duration": 0.031897,
     "end_time": "2024-11-14T05:24:36.968111",
     "exception": false,
     "start_time": "2024-11-14T05:24:36.936214",
     "status": "completed"
    },
    "tags": []
   },
   "outputs": [
    {
     "data": {
      "text/plain": [
       "target           0\n",
       "text             0\n",
       "Unnamed: 2    5522\n",
       "Unnamed: 3    5560\n",
       "Unnamed: 4    5566\n",
       "dtype: int64"
      ]
     },
     "execution_count": 279,
     "metadata": {},
     "output_type": "execute_result"
    }
   ],
   "source": [
    "#checking missing values\n",
    "df.isnull().sum()"
   ]
  },
  {
   "cell_type": "markdown",
   "id": "22147e25",
   "metadata": {
    "papermill": {
     "duration": 0.017875,
     "end_time": "2024-11-14T05:24:37.004369",
     "exception": false,
     "start_time": "2024-11-14T05:24:36.986494",
     "status": "completed"
    },
    "tags": []
   },
   "source": [
    "> <span style='font-size:15px; font-family:Verdana;color: #FF00CC;'><b>4.6 | Check Duplicate values</b></span>"
   ]
  },
  {
   "cell_type": "code",
   "execution_count": 280,
   "id": "2e5baadc",
   "metadata": {
    "execution": {
     "iopub.execute_input": "2024-11-14T05:24:37.043195Z",
     "iopub.status.busy": "2024-11-14T05:24:37.042333Z",
     "iopub.status.idle": "2024-11-14T05:24:37.055127Z",
     "shell.execute_reply": "2024-11-14T05:24:37.054022Z"
    },
    "papermill": {
     "duration": 0.034233,
     "end_time": "2024-11-14T05:24:37.057579",
     "exception": false,
     "start_time": "2024-11-14T05:24:37.023346",
     "status": "completed"
    },
    "tags": []
   },
   "outputs": [
    {
     "data": {
      "text/plain": [
       "403"
      ]
     },
     "execution_count": 280,
     "metadata": {},
     "output_type": "execute_result"
    }
   ],
   "source": [
    "#check duplicate values\n",
    "df.duplicated().sum()"
   ]
  },
  {
   "cell_type": "markdown",
   "id": "5871158c",
   "metadata": {
    "papermill": {
     "duration": 0.018255,
     "end_time": "2024-11-14T05:24:37.093748",
     "exception": false,
     "start_time": "2024-11-14T05:24:37.075493",
     "status": "completed"
    },
    "tags": []
   },
   "source": [
    "> <span style='font-size:15px; font-family:Verdana;color: #FF00CC;'><b>4.7 | Remove Duplicate values</b></span>"
   ]
  },
  {
   "cell_type": "code",
   "execution_count": 281,
   "id": "869cb4c2",
   "metadata": {
    "execution": {
     "iopub.execute_input": "2024-11-14T05:24:37.131858Z",
     "iopub.status.busy": "2024-11-14T05:24:37.131421Z",
     "iopub.status.idle": "2024-11-14T05:24:37.142137Z",
     "shell.execute_reply": "2024-11-14T05:24:37.141066Z"
    },
    "papermill": {
     "duration": 0.03362,
     "end_time": "2024-11-14T05:24:37.145074",
     "exception": false,
     "start_time": "2024-11-14T05:24:37.111454",
     "status": "completed"
    },
    "tags": []
   },
   "outputs": [],
   "source": [
    "#remove Duplicate\n",
    "df = df.drop_duplicates(keep = 'first')"
   ]
  },
  {
   "cell_type": "markdown",
   "id": "cce61788",
   "metadata": {
    "papermill": {
     "duration": 0.017566,
     "end_time": "2024-11-14T05:24:37.180598",
     "exception": false,
     "start_time": "2024-11-14T05:24:37.163032",
     "status": "completed"
    },
    "tags": []
   },
   "source": [
    "> <span style='font-size:15px; font-family:Verdana;color: #FF00CC;'><b>4.8 | Shape of the Dataset</b></span>"
   ]
  },
  {
   "cell_type": "code",
   "execution_count": 282,
   "id": "b6efd679",
   "metadata": {
    "execution": {
     "iopub.execute_input": "2024-11-14T05:24:37.218196Z",
     "iopub.status.busy": "2024-11-14T05:24:37.217806Z",
     "iopub.status.idle": "2024-11-14T05:24:37.225230Z",
     "shell.execute_reply": "2024-11-14T05:24:37.223967Z"
    },
    "papermill": {
     "duration": 0.029228,
     "end_time": "2024-11-14T05:24:37.227544",
     "exception": false,
     "start_time": "2024-11-14T05:24:37.198316",
     "status": "completed"
    },
    "tags": []
   },
   "outputs": [
    {
     "data": {
      "text/plain": [
       "(5169, 5)"
      ]
     },
     "execution_count": 282,
     "metadata": {},
     "output_type": "execute_result"
    }
   ],
   "source": [
    "df.shape"
   ]
  },
  {
   "cell_type": "markdown",
   "id": "6303d0ac",
   "metadata": {
    "papermill": {
     "duration": 0.017793,
     "end_time": "2024-11-14T05:24:37.264032",
     "exception": false,
     "start_time": "2024-11-14T05:24:37.246239",
     "status": "completed"
    },
    "tags": []
   },
   "source": [
    "<center> <a href=\"#top\" role=\"button\" aria-pressed=\"true\" >⬆️Back to the Top ⬆️</a>"
   ]
  },
  {
   "cell_type": "markdown",
   "id": "91ccda7e",
   "metadata": {
    "papermill": {
     "duration": 0.017918,
     "end_time": "2024-11-14T05:24:37.299875",
     "exception": false,
     "start_time": "2024-11-14T05:24:37.281957",
     "status": "completed"
    },
    "tags": []
   },
   "source": [
    "<a id=\"5\"></a>\n",
    "<div style=\"text-align: center; background:  #FF00CC; font-family: 'Trebuchet MS', Arial, sans-serif; color: white; padding: 15px; font-size: 26px; font-weight: bold; line-height: 1; border-radius: 50% 0 50% 0 / 40px; margin-bottom: 20px; box-shadow: 0px 4px 6px rgba(0, 0, 0, 0.1);\">5. EDA</div>\n"
   ]
  },
  {
   "cell_type": "markdown",
   "id": "1afe56c5",
   "metadata": {
    "papermill": {
     "duration": 0.017783,
     "end_time": "2024-11-14T05:24:37.336701",
     "exception": false,
     "start_time": "2024-11-14T05:24:37.318918",
     "status": "completed"
    },
    "tags": []
   },
   "source": [
    "> <span style='font-size:15px; font-family:Verdana;color: #FF00CC;'><b>5.1 | Percentage of Ham and Spam</b></span>"
   ]
  },
  {
   "cell_type": "code",
   "execution_count": 283,
   "id": "8b8b2cea",
   "metadata": {
    "execution": {
     "iopub.execute_input": "2024-11-14T05:24:37.374129Z",
     "iopub.status.busy": "2024-11-14T05:24:37.373677Z",
     "iopub.status.idle": "2024-11-14T05:24:37.381729Z",
     "shell.execute_reply": "2024-11-14T05:24:37.380644Z"
    },
    "papermill": {
     "duration": 0.029433,
     "end_time": "2024-11-14T05:24:37.384002",
     "exception": false,
     "start_time": "2024-11-14T05:24:37.354569",
     "status": "completed"
    },
    "tags": []
   },
   "outputs": [
    {
     "name": "stdout",
     "output_type": "stream",
     "text": [
      "percentage of 0 : 87.3669955503966\n",
      "percentage of 1 : 12.633004449603405\n"
     ]
    }
   ],
   "source": [
    "values = df['target'].value_counts()\n",
    "total = values.sum()\n",
    "\n",
    "percentage_0 = (values[0] /total) * 100\n",
    "percentage_1 = (values[1]/ total) *100\n",
    "\n",
    "print('percentage of 0 :' ,percentage_0)\n",
    "print('percentage of 1 :' ,percentage_1)"
   ]
  },
  {
   "cell_type": "code",
   "execution_count": 284,
   "id": "1a7050ac",
   "metadata": {
    "execution": {
     "iopub.execute_input": "2024-11-14T05:24:37.424053Z",
     "iopub.status.busy": "2024-11-14T05:24:37.422326Z",
     "iopub.status.idle": "2024-11-14T05:24:37.696895Z",
     "shell.execute_reply": "2024-11-14T05:24:37.694617Z"
    },
    "papermill": {
     "duration": 0.298487,
     "end_time": "2024-11-14T05:24:37.701247",
     "exception": false,
     "start_time": "2024-11-14T05:24:37.402760",
     "status": "completed"
    },
    "tags": []
   },
   "outputs": [
    {
     "data": {
      "image/png": "[encoded data removed]",
      "text/plain": [
       "<Figure size 800x800 with 1 Axes>"
      ]
     },
     "metadata": {},
     "output_type": "display_data"
    }
   ],
   "source": [
    "import matplotlib.pyplot as plt\n",
    "\n",
    "# Sample data\n",
    "# values = [75, 25]  # Example values for 'ham' and 'spam'\n",
    "\n",
    "# Define custom colors\n",
    "colors = ['#FF5733', '#33FF57']\n",
    "\n",
    "# Define the explode parameter to create a gap between slices\n",
    "explode = (0, 0.1)  # Explode the second slice (spam) by 10%\n",
    "\n",
    "# Create a figure with a white background\n",
    "fig, ax = plt.subplots(figsize=(8, 8))\n",
    "ax.set_facecolor('white')\n",
    "\n",
    "# Create the pie chart with custom colors, labels, explode parameter, and shadow\n",
    "wedges, texts, autotexts = ax.pie(\n",
    "    values, labels=['ham', 'spam'],\n",
    "    autopct='%0.2f%%',\n",
    "    startangle=90,\n",
    "    colors=colors,\n",
    "    wedgeprops={'linewidth': 2, 'edgecolor': 'white'},\n",
    "    explode=explode,  # Apply the explode parameter\n",
    "    shadow=True  # Add shadow\n",
    ")\n",
    "\n",
    "# Customize text properties\n",
    "for text, autotext in zip(texts, autotexts):\n",
    "    text.set(size=14, weight='bold')\n",
    "    autotext.set(size=14, weight='bold')\n",
    "\n",
    "# Add a title\n",
    "ax.set_title('Email Classification', fontsize=16, fontweight='bold')\n",
    "\n",
    "# Equal aspect ratio ensures that pie is drawn as a circle\n",
    "ax.axis('equal')\n",
    "\n",
    "# Show the pie chart\n",
    "plt.show()\n"
   ]
  },
  {
   "cell_type": "markdown",
   "id": "f01fc02f",
   "metadata": {
    "papermill": {
     "duration": 0.018794,
     "end_time": "2024-11-14T05:24:37.739668",
     "exception": false,
     "start_time": "2024-11-14T05:24:37.720874",
     "status": "completed"
    },
    "tags": []
   },
   "source": [
    "As you see to the graph the percentage of ham is too high (87.37%) as compare to spam messages percentage. so the data is imbalance"
   ]
  },
  {
   "cell_type": "markdown",
   "id": "95c9726d",
   "metadata": {
    "papermill": {
     "duration": 0.018728,
     "end_time": "2024-11-14T05:24:37.777483",
     "exception": false,
     "start_time": "2024-11-14T05:24:37.758755",
     "status": "completed"
    },
    "tags": []
   },
   "source": [
    "> <span style='font-size:15px; font-family:Verdana;color: #FF00CC;'><b>5.2 | Text Length and Structure Analysis</b></span>"
   ]
  },
  {
   "cell_type": "code",
   "execution_count": 285,
   "id": "835ace6e",
   "metadata": {
    "execution": {
     "iopub.execute_input": "2024-11-14T05:24:37.817384Z",
     "iopub.status.busy": "2024-11-14T05:24:37.816952Z",
     "iopub.status.idle": "2024-11-14T05:24:39.403969Z",
     "shell.execute_reply": "2024-11-14T05:24:39.402722Z"
    },
    "papermill": {
     "duration": 1.610621,
     "end_time": "2024-11-14T05:24:39.407081",
     "exception": false,
     "start_time": "2024-11-14T05:24:37.796460",
     "status": "completed"
    },
    "tags": []
   },
   "outputs": [],
   "source": [
    "df['num_characters'] = df['text'].apply(len)\n",
    "df['num_words'] = df['text'].apply(lambda x: len(nltk.word_tokenize(x)))\n",
    "df['num_sentence'] = df['text'].apply(lambda x: len(nltk.sent_tokenize(x)))"
   ]
  },
  {
   "cell_type": "code",
   "execution_count": 286,
   "id": "1260c0d3",
   "metadata": {
    "execution": {
     "iopub.execute_input": "2024-11-14T05:24:39.449749Z",
     "iopub.status.busy": "2024-11-14T05:24:39.449336Z",
     "iopub.status.idle": "2024-11-14T05:24:39.479161Z",
     "shell.execute_reply": "2024-11-14T05:24:39.478055Z"
    },
    "papermill": {
     "duration": 0.055077,
     "end_time": "2024-11-14T05:24:39.481679",
     "exception": false,
     "start_time": "2024-11-14T05:24:39.426602",
     "status": "completed"
    },
    "tags": []
   },
   "outputs": [
    {
     "data": {
      "text/html": [
       "<div>\n",
       "<style scoped>\n",
       "    .dataframe tbody tr th:only-of-type {\n",
       "        vertical-align: middle;\n",
       "    }\n",
       "\n",
       "    .dataframe tbody tr th {\n",
       "        vertical-align: top;\n",
       "    }\n",
       "\n",
       "    .dataframe thead th {\n",
       "        text-align: right;\n",
       "    }\n",
       "</style>\n",
       "<table border=\"1\" class=\"dataframe\">\n",
       "  <thead>\n",
       "    <tr style=\"text-align: right;\">\n",
       "      <th></th>\n",
       "      <th>num_characters</th>\n",
       "      <th>num_words</th>\n",
       "      <th>num_sentence</th>\n",
       "    </tr>\n",
       "  </thead>\n",
       "  <tbody>\n",
       "    <tr>\n",
       "      <th>count</th>\n",
       "      <td>5169.000000</td>\n",
       "      <td>5169.000000</td>\n",
       "      <td>5169.000000</td>\n",
       "    </tr>\n",
       "    <tr>\n",
       "      <th>mean</th>\n",
       "      <td>78.977945</td>\n",
       "      <td>18.455794</td>\n",
       "      <td>1.965564</td>\n",
       "    </tr>\n",
       "    <tr>\n",
       "      <th>std</th>\n",
       "      <td>58.236293</td>\n",
       "      <td>13.324758</td>\n",
       "      <td>1.448541</td>\n",
       "    </tr>\n",
       "    <tr>\n",
       "      <th>min</th>\n",
       "      <td>2.000000</td>\n",
       "      <td>1.000000</td>\n",
       "      <td>1.000000</td>\n",
       "    </tr>\n",
       "    <tr>\n",
       "      <th>25%</th>\n",
       "      <td>36.000000</td>\n",
       "      <td>9.000000</td>\n",
       "      <td>1.000000</td>\n",
       "    </tr>\n",
       "    <tr>\n",
       "      <th>50%</th>\n",
       "      <td>60.000000</td>\n",
       "      <td>15.000000</td>\n",
       "      <td>1.000000</td>\n",
       "    </tr>\n",
       "    <tr>\n",
       "      <th>75%</th>\n",
       "      <td>117.000000</td>\n",
       "      <td>26.000000</td>\n",
       "      <td>2.000000</td>\n",
       "    </tr>\n",
       "    <tr>\n",
       "      <th>max</th>\n",
       "      <td>910.000000</td>\n",
       "      <td>220.000000</td>\n",
       "      <td>38.000000</td>\n",
       "    </tr>\n",
       "  </tbody>\n",
       "</table>\n",
       "</div>"
      ],
      "text/plain": [
       "       num_characters    num_words  num_sentence\n",
       "count     5169.000000  5169.000000   5169.000000\n",
       "mean        78.977945    18.455794      1.965564\n",
       "std         58.236293    13.324758      1.448541\n",
       "min          2.000000     1.000000      1.000000\n",
       "25%         36.000000     9.000000      1.000000\n",
       "50%         60.000000    15.000000      1.000000\n",
       "75%        117.000000    26.000000      2.000000\n",
       "max        910.000000   220.000000     38.000000"
      ]
     },
     "execution_count": 286,
     "metadata": {},
     "output_type": "execute_result"
    }
   ],
   "source": [
    "df[['num_characters', 'num_words', 'num_sentence']].describe()"
   ]
  },
  {
   "cell_type": "markdown",
   "id": "6916d7ea",
   "metadata": {
    "papermill": {
     "duration": 0.01974,
     "end_time": "2024-11-14T05:24:39.521480",
     "exception": false,
     "start_time": "2024-11-14T05:24:39.501740",
     "status": "completed"
    },
    "tags": []
   },
   "source": [
    "> <span style='font-size:15px; font-family:Verdana;color: #FF00CC;'><b>5.3 | Summary Statistics for Legitimate Messages</b></span>"
   ]
  },
  {
   "cell_type": "code",
   "execution_count": 287,
   "id": "49e212f9",
   "metadata": {
    "execution": {
     "iopub.execute_input": "2024-11-14T05:24:39.565363Z",
     "iopub.status.busy": "2024-11-14T05:24:39.564921Z",
     "iopub.status.idle": "2024-11-14T05:24:39.590346Z",
     "shell.execute_reply": "2024-11-14T05:24:39.588908Z"
    },
    "papermill": {
     "duration": 0.050984,
     "end_time": "2024-11-14T05:24:39.593554",
     "exception": false,
     "start_time": "2024-11-14T05:24:39.542570",
     "status": "completed"
    },
    "tags": []
   },
   "outputs": [
    {
     "data": {
      "text/html": [
       "<div>\n",
       "<style scoped>\n",
       "    .dataframe tbody tr th:only-of-type {\n",
       "        vertical-align: middle;\n",
       "    }\n",
       "\n",
       "    .dataframe tbody tr th {\n",
       "        vertical-align: top;\n",
       "    }\n",
       "\n",
       "    .dataframe thead th {\n",
       "        text-align: right;\n",
       "    }\n",
       "</style>\n",
       "<table border=\"1\" class=\"dataframe\">\n",
       "  <thead>\n",
       "    <tr style=\"text-align: right;\">\n",
       "      <th></th>\n",
       "      <th>num_characters</th>\n",
       "      <th>num_words</th>\n",
       "      <th>num_sentence</th>\n",
       "    </tr>\n",
       "  </thead>\n",
       "  <tbody>\n",
       "    <tr>\n",
       "      <th>count</th>\n",
       "      <td>4516.000000</td>\n",
       "      <td>4516.000000</td>\n",
       "      <td>4516.000000</td>\n",
       "    </tr>\n",
       "    <tr>\n",
       "      <th>mean</th>\n",
       "      <td>70.459256</td>\n",
       "      <td>17.123782</td>\n",
       "      <td>1.820195</td>\n",
       "    </tr>\n",
       "    <tr>\n",
       "      <th>std</th>\n",
       "      <td>56.358207</td>\n",
       "      <td>13.493970</td>\n",
       "      <td>1.383657</td>\n",
       "    </tr>\n",
       "    <tr>\n",
       "      <th>min</th>\n",
       "      <td>2.000000</td>\n",
       "      <td>1.000000</td>\n",
       "      <td>1.000000</td>\n",
       "    </tr>\n",
       "    <tr>\n",
       "      <th>25%</th>\n",
       "      <td>34.000000</td>\n",
       "      <td>8.000000</td>\n",
       "      <td>1.000000</td>\n",
       "    </tr>\n",
       "    <tr>\n",
       "      <th>50%</th>\n",
       "      <td>52.000000</td>\n",
       "      <td>13.000000</td>\n",
       "      <td>1.000000</td>\n",
       "    </tr>\n",
       "    <tr>\n",
       "      <th>75%</th>\n",
       "      <td>90.000000</td>\n",
       "      <td>22.000000</td>\n",
       "      <td>2.000000</td>\n",
       "    </tr>\n",
       "    <tr>\n",
       "      <th>max</th>\n",
       "      <td>910.000000</td>\n",
       "      <td>220.000000</td>\n",
       "      <td>38.000000</td>\n",
       "    </tr>\n",
       "  </tbody>\n",
       "</table>\n",
       "</div>"
      ],
      "text/plain": [
       "       num_characters    num_words  num_sentence\n",
       "count     4516.000000  4516.000000   4516.000000\n",
       "mean        70.459256    17.123782      1.820195\n",
       "std         56.358207    13.493970      1.383657\n",
       "min          2.000000     1.000000      1.000000\n",
       "25%         34.000000     8.000000      1.000000\n",
       "50%         52.000000    13.000000      1.000000\n",
       "75%         90.000000    22.000000      2.000000\n",
       "max        910.000000   220.000000     38.000000"
      ]
     },
     "execution_count": 287,
     "metadata": {},
     "output_type": "execute_result"
    }
   ],
   "source": [
    "#ham\n",
    "df[df['target'] == 0][['num_characters', 'num_words', 'num_sentence']].describe()"
   ]
  },
  {
   "cell_type": "markdown",
   "id": "9b089832",
   "metadata": {
    "papermill": {
     "duration": 0.019298,
     "end_time": "2024-11-14T05:24:39.633599",
     "exception": false,
     "start_time": "2024-11-14T05:24:39.614301",
     "status": "completed"
    },
    "tags": []
   },
   "source": [
    "> <span style='font-size:15px; font-family:Verdana;color: #FF00CC;'><b>5.4 | Summary Statistics for Spam Messages</b></span>"
   ]
  },
  {
   "cell_type": "code",
   "execution_count": 288,
   "id": "4d5ae715",
   "metadata": {
    "execution": {
     "iopub.execute_input": "2024-11-14T05:24:39.675650Z",
     "iopub.status.busy": "2024-11-14T05:24:39.675278Z",
     "iopub.status.idle": "2024-11-14T05:24:39.697693Z",
     "shell.execute_reply": "2024-11-14T05:24:39.696584Z"
    },
    "papermill": {
     "duration": 0.046934,
     "end_time": "2024-11-14T05:24:39.700282",
     "exception": false,
     "start_time": "2024-11-14T05:24:39.653348",
     "status": "completed"
    },
    "tags": []
   },
   "outputs": [
    {
     "data": {
      "text/html": [
       "<div>\n",
       "<style scoped>\n",
       "    .dataframe tbody tr th:only-of-type {\n",
       "        vertical-align: middle;\n",
       "    }\n",
       "\n",
       "    .dataframe tbody tr th {\n",
       "        vertical-align: top;\n",
       "    }\n",
       "\n",
       "    .dataframe thead th {\n",
       "        text-align: right;\n",
       "    }\n",
       "</style>\n",
       "<table border=\"1\" class=\"dataframe\">\n",
       "  <thead>\n",
       "    <tr style=\"text-align: right;\">\n",
       "      <th></th>\n",
       "      <th>num_characters</th>\n",
       "      <th>num_words</th>\n",
       "      <th>num_sentence</th>\n",
       "    </tr>\n",
       "  </thead>\n",
       "  <tbody>\n",
       "    <tr>\n",
       "      <th>count</th>\n",
       "      <td>653.000000</td>\n",
       "      <td>653.000000</td>\n",
       "      <td>653.000000</td>\n",
       "    </tr>\n",
       "    <tr>\n",
       "      <th>mean</th>\n",
       "      <td>137.891271</td>\n",
       "      <td>27.667688</td>\n",
       "      <td>2.970904</td>\n",
       "    </tr>\n",
       "    <tr>\n",
       "      <th>std</th>\n",
       "      <td>30.137753</td>\n",
       "      <td>7.008418</td>\n",
       "      <td>1.488425</td>\n",
       "    </tr>\n",
       "    <tr>\n",
       "      <th>min</th>\n",
       "      <td>13.000000</td>\n",
       "      <td>2.000000</td>\n",
       "      <td>1.000000</td>\n",
       "    </tr>\n",
       "    <tr>\n",
       "      <th>25%</th>\n",
       "      <td>132.000000</td>\n",
       "      <td>25.000000</td>\n",
       "      <td>2.000000</td>\n",
       "    </tr>\n",
       "    <tr>\n",
       "      <th>50%</th>\n",
       "      <td>149.000000</td>\n",
       "      <td>29.000000</td>\n",
       "      <td>3.000000</td>\n",
       "    </tr>\n",
       "    <tr>\n",
       "      <th>75%</th>\n",
       "      <td>157.000000</td>\n",
       "      <td>32.000000</td>\n",
       "      <td>4.000000</td>\n",
       "    </tr>\n",
       "    <tr>\n",
       "      <th>max</th>\n",
       "      <td>224.000000</td>\n",
       "      <td>46.000000</td>\n",
       "      <td>9.000000</td>\n",
       "    </tr>\n",
       "  </tbody>\n",
       "</table>\n",
       "</div>"
      ],
      "text/plain": [
       "       num_characters   num_words  num_sentence\n",
       "count      653.000000  653.000000    653.000000\n",
       "mean       137.891271   27.667688      2.970904\n",
       "std         30.137753    7.008418      1.488425\n",
       "min         13.000000    2.000000      1.000000\n",
       "25%        132.000000   25.000000      2.000000\n",
       "50%        149.000000   29.000000      3.000000\n",
       "75%        157.000000   32.000000      4.000000\n",
       "max        224.000000   46.000000      9.000000"
      ]
     },
     "execution_count": 288,
     "metadata": {},
     "output_type": "execute_result"
    }
   ],
   "source": [
    "#spam\n",
    "df[df['target'] == 1][['num_characters', 'num_words', 'num_sentence']].describe()"
   ]
  },
  {
   "cell_type": "markdown",
   "id": "ba2290d0",
   "metadata": {
    "papermill": {
     "duration": 0.020123,
     "end_time": "2024-11-14T05:24:39.742891",
     "exception": false,
     "start_time": "2024-11-14T05:24:39.722768",
     "status": "completed"
    },
    "tags": []
   },
   "source": [
    "> <span style='font-size:15px; font-family:Verdana;color: #FF00CC;'><b>5.5 | Character Length Distribution for Legitimate and Spam Messages</b></span>"
   ]
  },
  {
   "cell_type": "code",
   "execution_count": 289,
   "id": "5aebbc74",
   "metadata": {
    "execution": {
     "iopub.execute_input": "2024-11-14T05:24:39.784294Z",
     "iopub.status.busy": "2024-11-14T05:24:39.783884Z",
     "iopub.status.idle": "2024-11-14T05:24:41.116378Z",
     "shell.execute_reply": "2024-11-14T05:24:41.115052Z"
    },
    "papermill": {
     "duration": 1.356257,
     "end_time": "2024-11-14T05:24:41.119111",
     "exception": false,
     "start_time": "2024-11-14T05:24:39.762854",
     "status": "completed"
    },
    "tags": []
   },
   "outputs": [
    {
     "data": {
      "image/png": "[encoded data removed]",
      "text/plain": [
       "<Figure size 1000x600 with 1 Axes>"
      ]
     },
     "metadata": {},
     "output_type": "display_data"
    }
   ],
   "source": [
    "import seaborn as sns\n",
    "import matplotlib.pyplot as plt\n",
    "\n",
    "# Create a figure and set the figure size\n",
    "plt.figure(figsize=(10, 6))\n",
    "\n",
    "# Plot the histogram for target 0 in blue\n",
    "sns.histplot(df[df['target'] == 0]['num_characters'], color='blue', label='Target 0', kde=True)\n",
    "\n",
    "# Plot the histogram for target 1 in red\n",
    "sns.histplot(df[df['target'] == 1]['num_characters'], color='red', label='Target 1', kde=True)\n",
    "\n",
    "# Add labels and a title\n",
    "plt.xlabel('Number of Characters', fontsize=14)\n",
    "plt.ylabel('Frequency', fontsize=14)\n",
    "plt.title('Distribution of Number of Characters by Target', fontsize=16, fontweight='bold')\n",
    "\n",
    "# Add a legend\n",
    "plt.legend()\n",
    "\n",
    "# Customize the appearance of the plot\n",
    "sns.set(style='whitegrid')  # Add a white grid background\n",
    "\n",
    "# Show the plot\n",
    "plt.show()\n"
   ]
  },
  {
   "cell_type": "markdown",
   "id": "3bdec6aa",
   "metadata": {
    "papermill": {
     "duration": 0.022779,
     "end_time": "2024-11-14T05:24:41.164588",
     "exception": false,
     "start_time": "2024-11-14T05:24:41.141809",
     "status": "completed"
    },
    "tags": []
   },
   "source": [
    "> <span style='font-size:15px; font-family:Verdana;color: #FF00CC;'><b>5.6 | Word Count Distribution for Legitimate and Spam Messages</b></span>"
   ]
  },
  {
   "cell_type": "code",
   "execution_count": 290,
   "id": "6da3d86d",
   "metadata": {
    "execution": {
     "iopub.execute_input": "2024-11-14T05:24:41.210807Z",
     "iopub.status.busy": "2024-11-14T05:24:41.210385Z",
     "iopub.status.idle": "2024-11-14T05:24:41.989627Z",
     "shell.execute_reply": "2024-11-14T05:24:41.988483Z"
    },
    "papermill": {
     "duration": 0.806182,
     "end_time": "2024-11-14T05:24:41.992125",
     "exception": false,
     "start_time": "2024-11-14T05:24:41.185943",
     "status": "completed"
    },
    "tags": []
   },
   "outputs": [
    {
     "data": {
      "image/png": "[encoded data removed]",
      "text/plain": [
       "<Figure size 1000x600 with 1 Axes>"
      ]
     },
     "metadata": {},
     "output_type": "display_data"
    }
   ],
   "source": [
    "import seaborn as sns\n",
    "import matplotlib.pyplot as plt\n",
    "\n",
    "# Create a figure and set the figure size\n",
    "plt.figure(figsize=(10, 6))\n",
    "\n",
    "# Plot the histogram for target 0 in blue\n",
    "sns.histplot(df[df['target'] == 0]['num_words'], color='blue', label='Target 0', kde=True)\n",
    "\n",
    "# Plot the histogram for target 1 in red\n",
    "sns.histplot(df[df['target'] == 1]['num_words'], color='red', label='Target 1', kde=True)\n",
    "\n",
    "# Add labels and a title\n",
    "plt.xlabel('Number of Words', fontsize=14)\n",
    "plt.ylabel('Frequency', fontsize=14)\n",
    "plt.title('Distribution of Number of Words by Target', fontsize=16, fontweight='bold')\n",
    "\n",
    "# Add a legend\n",
    "plt.legend()\n",
    "\n",
    "# Customize the appearance of the plot\n",
    "sns.set(style='whitegrid')  # Add a white grid background\n",
    "\n",
    "# Show the plot\n",
    "plt.show()\n"
   ]
  },
  {
   "cell_type": "markdown",
   "id": "526d772c",
   "metadata": {
    "papermill": {
     "duration": 0.022613,
     "end_time": "2024-11-14T05:24:42.036653",
     "exception": false,
     "start_time": "2024-11-14T05:24:42.014040",
     "status": "completed"
    },
    "tags": []
   },
   "source": [
    "> <span style='font-size:15px; font-family:Verdana;color: #FF00CC;'><b>5.7 | Pairplot for Data Visualization</b></span>"
   ]
  },
  {
   "cell_type": "code",
   "execution_count": 291,
   "id": "9cddb5de",
   "metadata": {
    "execution": {
     "iopub.execute_input": "2024-11-14T05:24:42.082165Z",
     "iopub.status.busy": "2024-11-14T05:24:42.081724Z",
     "iopub.status.idle": "2024-11-14T05:24:47.011312Z",
     "shell.execute_reply": "2024-11-14T05:24:47.010222Z"
    },
    "papermill": {
     "duration": 4.95621,
     "end_time": "2024-11-14T05:24:47.014918",
     "exception": false,
     "start_time": "2024-11-14T05:24:42.058708",
     "status": "completed"
    },
    "tags": []
   },
   "outputs": [
    {
     "data": {
      "image/png": "[encoded data removed]",
      "text/plain": [
       "<Figure size 813.5x750 with 12 Axes>"
      ]
     },
     "metadata": {},
     "output_type": "display_data"
    }
   ],
   "source": [
    "import seaborn as sns\n",
    "import matplotlib.pyplot as plt\n",
    "\n",
    "# Create a pairplot with custom styling\n",
    "sns.set(style='ticks', color_codes=True)\n",
    "g = sns.pairplot(df, hue='target', diag_kind='kde', markers=[\"o\", \"s\"])\n",
    "\n",
    "# Set a title for the pairplot\n",
    "g.fig.suptitle(\"Pairplot of Data by Target\", fontsize=16, fontweight='bold')\n",
    "plt.subplots_adjust(top=0.95)  # Adjust the position of the title\n",
    "\n",
    "# Customize the legend\n",
    "g._legend.set_title('Target')\n",
    "for t, l in zip(g._legend.texts, [\"Target 0\", \"Target 1\"]):\n",
    "    t.set_text(l)\n",
    "\n",
    "# Show the pairplot\n",
    "plt.show()\n"
   ]
  },
  {
   "cell_type": "markdown",
   "id": "ee72e8e7",
   "metadata": {
    "papermill": {
     "duration": 0.024814,
     "end_time": "2024-11-14T05:24:47.064631",
     "exception": false,
     "start_time": "2024-11-14T05:24:47.039817",
     "status": "completed"
    },
    "tags": []
   },
   "source": [
    "> <span style='font-size:15px; font-family:Verdana;color: #FF00CC;'><b>5.8 | Coorelation</b></span>"
   ]
  },
  {
   "cell_type": "code",
   "execution_count": 292,
   "id": "1b094d48",
   "metadata": {
    "execution": {
     "iopub.execute_input": "2024-11-14T05:24:47.114842Z",
     "iopub.status.busy": "2024-11-14T05:24:47.114387Z",
     "iopub.status.idle": "2024-11-14T05:24:47.131595Z",
     "shell.execute_reply": "2024-11-14T05:24:47.130312Z"
    },
    "papermill": {
     "duration": 0.045166,
     "end_time": "2024-11-14T05:24:47.134145",
     "exception": false,
     "start_time": "2024-11-14T05:24:47.088979",
     "status": "completed"
    },
    "scrolled": true,
    "tags": []
   },
   "outputs": [
    {
     "data": {
      "text/html": [
       "<div>\n",
       "<style scoped>\n",
       "    .dataframe tbody tr th:only-of-type {\n",
       "        vertical-align: middle;\n",
       "    }\n",
       "\n",
       "    .dataframe tbody tr th {\n",
       "        vertical-align: top;\n",
       "    }\n",
       "\n",
       "    .dataframe thead th {\n",
       "        text-align: right;\n",
       "    }\n",
       "</style>\n",
       "<table border=\"1\" class=\"dataframe\">\n",
       "  <thead>\n",
       "    <tr style=\"text-align: right;\">\n",
       "      <th></th>\n",
       "      <th>target</th>\n",
       "      <th>num_characters</th>\n",
       "      <th>num_words</th>\n",
       "      <th>num_sentence</th>\n",
       "    </tr>\n",
       "  </thead>\n",
       "  <tbody>\n",
       "    <tr>\n",
       "      <th>target</th>\n",
       "      <td>1.000000</td>\n",
       "      <td>0.384717</td>\n",
       "      <td>0.262912</td>\n",
       "      <td>0.263939</td>\n",
       "    </tr>\n",
       "    <tr>\n",
       "      <th>num_characters</th>\n",
       "      <td>0.384717</td>\n",
       "      <td>1.000000</td>\n",
       "      <td>0.965760</td>\n",
       "      <td>0.624139</td>\n",
       "    </tr>\n",
       "    <tr>\n",
       "      <th>num_words</th>\n",
       "      <td>0.262912</td>\n",
       "      <td>0.965760</td>\n",
       "      <td>1.000000</td>\n",
       "      <td>0.679971</td>\n",
       "    </tr>\n",
       "    <tr>\n",
       "      <th>num_sentence</th>\n",
       "      <td>0.263939</td>\n",
       "      <td>0.624139</td>\n",
       "      <td>0.679971</td>\n",
       "      <td>1.000000</td>\n",
       "    </tr>\n",
       "  </tbody>\n",
       "</table>\n",
       "</div>"
      ],
      "text/plain": [
       "                  target  num_characters  num_words  num_sentence\n",
       "target          1.000000        0.384717   0.262912      0.263939\n",
       "num_characters  0.384717        1.000000   0.965760      0.624139\n",
       "num_words       0.262912        0.965760   1.000000      0.679971\n",
       "num_sentence    0.263939        0.624139   0.679971      1.000000"
      ]
     },
     "execution_count": 292,
     "metadata": {},
     "output_type": "execute_result"
    }
   ],
   "source": [
    "df[['target','num_characters', 'num_words', 'num_sentence']].corr()"
   ]
  },
  {
   "cell_type": "code",
   "execution_count": 293,
   "id": "40b626ae",
   "metadata": {
    "execution": {
     "iopub.execute_input": "2024-11-14T05:24:47.186616Z",
     "iopub.status.busy": "2024-11-14T05:24:47.186209Z",
     "iopub.status.idle": "2024-11-14T05:24:47.570828Z",
     "shell.execute_reply": "2024-11-14T05:24:47.569599Z"
    },
    "papermill": {
     "duration": 0.41285,
     "end_time": "2024-11-14T05:24:47.573093",
     "exception": false,
     "start_time": "2024-11-14T05:24:47.160243",
     "status": "completed"
    },
    "tags": []
   },
   "outputs": [
    {
     "data": {
      "image/png": "[encoded data removed]",
      "text/plain": [
       "<Figure size 1000x600 with 2 Axes>"
      ]
     },
     "metadata": {},
     "output_type": "display_data"
    }
   ],
   "source": [
    "import seaborn as sns\n",
    "import matplotlib.pyplot as plt\n",
    "\n",
    "# Select the columns for the correlation matrix\n",
    "correlation_matrix = df[['target', 'num_characters', 'num_words', 'num_sentence']].corr()\n",
    "\n",
    "# Create a heatmap with custom styling\n",
    "plt.figure(figsize=(10, 6))\n",
    "sns.set(font_scale=1.2)  # Adjust font scale for better readability\n",
    "sns.heatmap(correlation_matrix, annot=True, cmap='coolwarm', linewidths=0.5, fmt=\".2f\")\n",
    "\n",
    "# Set a title for the heatmap\n",
    "plt.title(\"Correlation Heatmap\", fontsize=16, fontweight='bold')\n",
    "\n",
    "# Rotate x-axis labels for better readability\n",
    "plt.xticks(rotation=45)\n",
    "\n",
    "# Show the heatmap\n",
    "plt.show()\n"
   ]
  },
  {
   "cell_type": "markdown",
   "id": "1f5588c8",
   "metadata": {
    "papermill": {
     "duration": 0.025217,
     "end_time": "2024-11-14T05:24:47.623981",
     "exception": false,
     "start_time": "2024-11-14T05:24:47.598764",
     "status": "completed"
    },
    "tags": []
   },
   "source": [
    "<center> <a href=\"#top\" role=\"button\" aria-pressed=\"true\" >⬆️Back to the Top ⬆️</a>"
   ]
  },
  {
   "cell_type": "markdown",
   "id": "a3e35808",
   "metadata": {
    "papermill": {
     "duration": 0.025973,
     "end_time": "2024-11-14T05:24:47.675655",
     "exception": false,
     "start_time": "2024-11-14T05:24:47.649682",
     "status": "completed"
    },
    "tags": []
   },
   "source": [
    "<a id=\"6\"></a>\n",
    "<div style=\"text-align: center; background:  #FF00CC; font-family: 'Trebuchet MS', Arial, sans-serif; color: white; padding: 15px; font-size: 26px; font-weight: bold; line-height: 1; border-radius: 50% 0 50% 0 / 40px; margin-bottom: 20px; box-shadow: 0px 4px 6px rgba(0, 0, 0, 0.1);\">6. Data Preprocessing</div>\n"
   ]
  },
  {
   "cell_type": "code",
   "execution_count": 294,
   "id": "def28985",
   "metadata": {
    "execution": {
     "iopub.execute_input": "2024-11-14T05:24:47.731195Z",
     "iopub.status.busy": "2024-11-14T05:24:47.730243Z",
     "iopub.status.idle": "2024-11-14T05:24:47.739957Z",
     "shell.execute_reply": "2024-11-14T05:24:47.738874Z"
    },
    "papermill": {
     "duration": 0.041164,
     "end_time": "2024-11-14T05:24:47.742470",
     "exception": false,
     "start_time": "2024-11-14T05:24:47.701306",
     "status": "completed"
    },
    "tags": []
   },
   "outputs": [],
   "source": [
    "# Importing the Porter Stemmer for text stemming\n",
    "from nltk.stem.porter import PorterStemmer\n",
    "\n",
    "# Importing the string module for handling special characters\n",
    "import string\n",
    "\n",
    "# Creating an instance of the Porter Stemmer\n",
    "ps = PorterStemmer()\n",
    "\n",
    "# Lowercase transformation and text preprocessing function\n",
    "def transform_text(text):\n",
    "    # Transform the text to lowercase\n",
    "    text = text.lower()\n",
    "    \n",
    "    # Tokenization using NLTK\n",
    "    text = nltk.word_tokenize(text)\n",
    "    \n",
    "    # Removing special characters\n",
    "    y = []\n",
    "    for i in text:\n",
    "        if i.isalnum():\n",
    "            y.append(i)\n",
    "            \n",
    "    # Removing stop words and punctuation\n",
    "    text = y[:]\n",
    "    y.clear()\n",
    "    \n",
    "    # Loop through the tokens and remove stopwords and punctuation\n",
    "    for i in text:\n",
    "        if i not in stopwords.words('english') and i not in string.punctuation:\n",
    "            y.append(i)\n",
    "        \n",
    "    # Stemming using Porter Stemmer\n",
    "    text = y[:]\n",
    "    y.clear()\n",
    "    for i in text:\n",
    "        y.append(ps.stem(i))\n",
    "    \n",
    "    # Join the processed tokens back into a single string\n",
    "    return \" \".join(y)\n"
   ]
  },
  {
   "cell_type": "code",
   "execution_count": 295,
   "id": "a22590a8",
   "metadata": {
    "execution": {
     "iopub.execute_input": "2024-11-14T05:24:47.795746Z",
     "iopub.status.busy": "2024-11-14T05:24:47.795327Z",
     "iopub.status.idle": "2024-11-14T05:24:47.808903Z",
     "shell.execute_reply": "2024-11-14T05:24:47.807819Z"
    },
    "papermill": {
     "duration": 0.042823,
     "end_time": "2024-11-14T05:24:47.811277",
     "exception": false,
     "start_time": "2024-11-14T05:24:47.768454",
     "status": "completed"
    },
    "tags": []
   },
   "outputs": [
    {
     "data": {
      "text/plain": [
       "'go jurong point crazi avail bugi n great world la e buffet cine got amor wat'"
      ]
     },
     "execution_count": 295,
     "metadata": {},
     "output_type": "execute_result"
    }
   ],
   "source": [
    "transform_text('Go until jurong point, crazy.. Available only in bugis n great world la e buffet... Cine there got amore wat...')"
   ]
  },
  {
   "cell_type": "markdown",
   "id": "0b76391e",
   "metadata": {
    "papermill": {
     "duration": 0.025409,
     "end_time": "2024-11-14T05:24:47.862581",
     "exception": false,
     "start_time": "2024-11-14T05:24:47.837172",
     "status": "completed"
    },
    "tags": []
   },
   "source": [
    "> <span style='font-size:15px; font-family:Verdana;color: #FF00CC;'><b>6.1 | Creating a New Column: 'transformed_text'</b></span>"
   ]
  },
  {
   "cell_type": "code",
   "execution_count": 296,
   "id": "31c259d0",
   "metadata": {
    "execution": {
     "iopub.execute_input": "2024-11-14T05:24:47.916151Z",
     "iopub.status.busy": "2024-11-14T05:24:47.915730Z",
     "iopub.status.idle": "2024-11-14T05:25:00.199194Z",
     "shell.execute_reply": "2024-11-14T05:25:00.197706Z"
    },
    "papermill": {
     "duration": 12.313534,
     "end_time": "2024-11-14T05:25:00.201901",
     "exception": false,
     "start_time": "2024-11-14T05:24:47.888367",
     "status": "completed"
    },
    "tags": []
   },
   "outputs": [],
   "source": [
    "df['transformed_text'] = df['text'].apply(transform_text)"
   ]
  },
  {
   "cell_type": "code",
   "execution_count": 297,
   "id": "b67ecfba",
   "metadata": {
    "execution": {
     "iopub.execute_input": "2024-11-14T05:25:00.257890Z",
     "iopub.status.busy": "2024-11-14T05:25:00.256755Z",
     "iopub.status.idle": "2024-11-14T05:25:00.269046Z",
     "shell.execute_reply": "2024-11-14T05:25:00.267719Z"
    },
    "papermill": {
     "duration": 0.04291,
     "end_time": "2024-11-14T05:25:00.271468",
     "exception": false,
     "start_time": "2024-11-14T05:25:00.228558",
     "status": "completed"
    },
    "tags": []
   },
   "outputs": [
    {
     "data": {
      "text/html": [
       "<style type=\"text/css\">\n",
       "#T_48936 th {\n",
       "  color: Black;\n",
       "  background-color: #FF00CC;\n",
       "  font-weight: bold;\n",
       "}\n",
       "</style>\n",
       "<table id=\"T_48936\">\n",
       "  <thead>\n",
       "    <tr>\n",
       "      <th class=\"blank level0\" >&nbsp;</th>\n",
       "      <th id=\"T_48936_level0_col0\" class=\"col_heading level0 col0\" >target</th>\n",
       "      <th id=\"T_48936_level0_col1\" class=\"col_heading level0 col1\" >text</th>\n",
       "      <th id=\"T_48936_level0_col2\" class=\"col_heading level0 col2\" >Unnamed: 2</th>\n",
       "      <th id=\"T_48936_level0_col3\" class=\"col_heading level0 col3\" >Unnamed: 3</th>\n",
       "      <th id=\"T_48936_level0_col4\" class=\"col_heading level0 col4\" >Unnamed: 4</th>\n",
       "      <th id=\"T_48936_level0_col5\" class=\"col_heading level0 col5\" >num_characters</th>\n",
       "      <th id=\"T_48936_level0_col6\" class=\"col_heading level0 col6\" >num_words</th>\n",
       "      <th id=\"T_48936_level0_col7\" class=\"col_heading level0 col7\" >num_sentence</th>\n",
       "      <th id=\"T_48936_level0_col8\" class=\"col_heading level0 col8\" >transformed_text</th>\n",
       "    </tr>\n",
       "  </thead>\n",
       "  <tbody>\n",
       "    <tr>\n",
       "      <th id=\"T_48936_level0_row0\" class=\"row_heading level0 row0\" >0</th>\n",
       "      <td id=\"T_48936_row0_col0\" class=\"data row0 col0\" >0</td>\n",
       "      <td id=\"T_48936_row0_col1\" class=\"data row0 col1\" >Go until jurong point, crazy.. Available only in bugis n great world la e buffet... Cine there got amore wat...</td>\n",
       "      <td id=\"T_48936_row0_col2\" class=\"data row0 col2\" >nan</td>\n",
       "      <td id=\"T_48936_row0_col3\" class=\"data row0 col3\" >nan</td>\n",
       "      <td id=\"T_48936_row0_col4\" class=\"data row0 col4\" >nan</td>\n",
       "      <td id=\"T_48936_row0_col5\" class=\"data row0 col5\" >111</td>\n",
       "      <td id=\"T_48936_row0_col6\" class=\"data row0 col6\" >24</td>\n",
       "      <td id=\"T_48936_row0_col7\" class=\"data row0 col7\" >2</td>\n",
       "      <td id=\"T_48936_row0_col8\" class=\"data row0 col8\" >go jurong point crazi avail bugi n great world la e buffet cine got amor wat</td>\n",
       "    </tr>\n",
       "    <tr>\n",
       "      <th id=\"T_48936_level0_row1\" class=\"row_heading level0 row1\" >1</th>\n",
       "      <td id=\"T_48936_row1_col0\" class=\"data row1 col0\" >0</td>\n",
       "      <td id=\"T_48936_row1_col1\" class=\"data row1 col1\" >Ok lar... Joking wif u oni...</td>\n",
       "      <td id=\"T_48936_row1_col2\" class=\"data row1 col2\" >nan</td>\n",
       "      <td id=\"T_48936_row1_col3\" class=\"data row1 col3\" >nan</td>\n",
       "      <td id=\"T_48936_row1_col4\" class=\"data row1 col4\" >nan</td>\n",
       "      <td id=\"T_48936_row1_col5\" class=\"data row1 col5\" >29</td>\n",
       "      <td id=\"T_48936_row1_col6\" class=\"data row1 col6\" >8</td>\n",
       "      <td id=\"T_48936_row1_col7\" class=\"data row1 col7\" >2</td>\n",
       "      <td id=\"T_48936_row1_col8\" class=\"data row1 col8\" >ok lar joke wif u oni</td>\n",
       "    </tr>\n",
       "    <tr>\n",
       "      <th id=\"T_48936_level0_row2\" class=\"row_heading level0 row2\" >2</th>\n",
       "      <td id=\"T_48936_row2_col0\" class=\"data row2 col0\" >1</td>\n",
       "      <td id=\"T_48936_row2_col1\" class=\"data row2 col1\" >Free entry in 2 a wkly comp to win FA Cup final tkts 21st May 2005. Text FA to 87121 to receive entry question(std txt rate)T&C's apply 08452810075over18's</td>\n",
       "      <td id=\"T_48936_row2_col2\" class=\"data row2 col2\" >nan</td>\n",
       "      <td id=\"T_48936_row2_col3\" class=\"data row2 col3\" >nan</td>\n",
       "      <td id=\"T_48936_row2_col4\" class=\"data row2 col4\" >nan</td>\n",
       "      <td id=\"T_48936_row2_col5\" class=\"data row2 col5\" >155</td>\n",
       "      <td id=\"T_48936_row2_col6\" class=\"data row2 col6\" >37</td>\n",
       "      <td id=\"T_48936_row2_col7\" class=\"data row2 col7\" >2</td>\n",
       "      <td id=\"T_48936_row2_col8\" class=\"data row2 col8\" >free entri 2 wkli comp win fa cup final tkt 21st may text fa 87121 receiv entri question std txt rate c appli 08452810075over18</td>\n",
       "    </tr>\n",
       "    <tr>\n",
       "      <th id=\"T_48936_level0_row3\" class=\"row_heading level0 row3\" >3</th>\n",
       "      <td id=\"T_48936_row3_col0\" class=\"data row3 col0\" >0</td>\n",
       "      <td id=\"T_48936_row3_col1\" class=\"data row3 col1\" >U dun say so early hor... U c already then say...</td>\n",
       "      <td id=\"T_48936_row3_col2\" class=\"data row3 col2\" >nan</td>\n",
       "      <td id=\"T_48936_row3_col3\" class=\"data row3 col3\" >nan</td>\n",
       "      <td id=\"T_48936_row3_col4\" class=\"data row3 col4\" >nan</td>\n",
       "      <td id=\"T_48936_row3_col5\" class=\"data row3 col5\" >49</td>\n",
       "      <td id=\"T_48936_row3_col6\" class=\"data row3 col6\" >13</td>\n",
       "      <td id=\"T_48936_row3_col7\" class=\"data row3 col7\" >1</td>\n",
       "      <td id=\"T_48936_row3_col8\" class=\"data row3 col8\" >u dun say earli hor u c alreadi say</td>\n",
       "    </tr>\n",
       "    <tr>\n",
       "      <th id=\"T_48936_level0_row4\" class=\"row_heading level0 row4\" >4</th>\n",
       "      <td id=\"T_48936_row4_col0\" class=\"data row4 col0\" >0</td>\n",
       "      <td id=\"T_48936_row4_col1\" class=\"data row4 col1\" >Nah I don't think he goes to usf, he lives around here though</td>\n",
       "      <td id=\"T_48936_row4_col2\" class=\"data row4 col2\" >nan</td>\n",
       "      <td id=\"T_48936_row4_col3\" class=\"data row4 col3\" >nan</td>\n",
       "      <td id=\"T_48936_row4_col4\" class=\"data row4 col4\" >nan</td>\n",
       "      <td id=\"T_48936_row4_col5\" class=\"data row4 col5\" >61</td>\n",
       "      <td id=\"T_48936_row4_col6\" class=\"data row4 col6\" >15</td>\n",
       "      <td id=\"T_48936_row4_col7\" class=\"data row4 col7\" >1</td>\n",
       "      <td id=\"T_48936_row4_col8\" class=\"data row4 col8\" >nah think goe usf live around though</td>\n",
       "    </tr>\n",
       "  </tbody>\n",
       "</table>\n"
      ],
      "text/plain": [
       "<pandas.io.formats.style.Styler at 0x168415210>"
      ]
     },
     "execution_count": 297,
     "metadata": {},
     "output_type": "execute_result"
    }
   ],
   "source": [
    "styled_df = df.head(5).style\n",
    "\n",
    "\n",
    "# Modify the color and background color of the table headers (th)\n",
    "styled_df.set_table_styles([\n",
    "    {\"selector\": \"th\", \"props\": [(\"color\", 'Black'), (\"background-color\", \"#FF00CC\"), ('font-weight', 'bold')]}\n",
    "])\n"
   ]
  },
  {
   "cell_type": "markdown",
   "id": "7f19acd7",
   "metadata": {
    "papermill": {
     "duration": 0.02617,
     "end_time": "2024-11-14T05:25:00.323974",
     "exception": false,
     "start_time": "2024-11-14T05:25:00.297804",
     "status": "completed"
    },
    "tags": []
   },
   "source": [
    "> <span style='font-size:15px; font-family:Verdana;color: #FF00CC;'><b>6.2 | Word Cloud for Spam Messages - not used to to vulnerabilities and missmatching versions of wordcloud and pillow.</b></span>"
   ]
  },
  {
   "cell_type": "code",
   "execution_count": 298,
   "id": "e10b70d3",
   "metadata": {
    "execution": {
     "iopub.execute_input": "2024-11-14T05:25:00.379676Z",
     "iopub.status.busy": "2024-11-14T05:25:00.379273Z",
     "iopub.status.idle": "2024-11-14T05:25:01.575556Z",
     "shell.execute_reply": "2024-11-14T05:25:01.573991Z"
    },
    "papermill": {
     "duration": 1.227101,
     "end_time": "2024-11-14T05:25:01.578538",
     "exception": false,
     "start_time": "2024-11-14T05:25:00.351437",
     "status": "completed"
    },
    "tags": []
   },
   "outputs": [],
   "source": [
    "# wc = WordCloud(width = 500, height = 500, min_font_size = 10, background_color = 'white')\n",
    "# spam_wc = wc.generate(df[df['target'] == 1]['transformed_text'].str.cat(sep = \" \"))\n",
    "# plt.figure(figsize = (15,6))\n",
    "# plt.imshow(spam_wc)\n",
    "# plt.show()"
   ]
  },
  {
   "cell_type": "markdown",
   "id": "5d74a6d7",
   "metadata": {
    "papermill": {
     "duration": 0.03212,
     "end_time": "2024-11-14T05:25:01.641216",
     "exception": false,
     "start_time": "2024-11-14T05:25:01.609096",
     "status": "completed"
    },
    "tags": []
   },
   "source": [
    "> <span style='font-size:15px; font-family:Verdana;color: #FF00CC;'><b>6.2 | Word Cloud for Not spam Messages - not used to to vulnerabilities and missmatching versions of wordcloud and pillow.</b></span>"
   ]
  },
  {
   "cell_type": "code",
   "execution_count": 299,
   "id": "5d51b971",
   "metadata": {
    "execution": {
     "iopub.execute_input": "2024-11-14T05:25:01.704586Z",
     "iopub.status.busy": "2024-11-14T05:25:01.704150Z",
     "iopub.status.idle": "2024-11-14T05:25:03.250034Z",
     "shell.execute_reply": "2024-11-14T05:25:03.248877Z"
    },
    "papermill": {
     "duration": 1.583504,
     "end_time": "2024-11-14T05:25:03.256053",
     "exception": false,
     "start_time": "2024-11-14T05:25:01.672549",
     "status": "completed"
    },
    "tags": []
   },
   "outputs": [],
   "source": [
    "# ham_wc = wc.generate(df[df['target'] == 0]['transformed_text'].str.cat(sep = \" \"))\n",
    "# plt.figure(figsize = (15,6))\n",
    "# plt.imshow(ham_wc)\n",
    "# plt.show()"
   ]
  },
  {
   "cell_type": "markdown",
   "id": "f9702892",
   "metadata": {
    "papermill": {
     "duration": 0.037999,
     "end_time": "2024-11-14T05:25:03.332765",
     "exception": false,
     "start_time": "2024-11-14T05:25:03.294766",
     "status": "completed"
    },
    "tags": []
   },
   "source": [
    "> <span style='font-size:15px; font-family:Verdana;color: #FF00CC;'><b>6.3 | Find top 30 words of spam</b></span>"
   ]
  },
  {
   "cell_type": "code",
   "execution_count": 300,
   "id": "d57a9f47",
   "metadata": {
    "execution": {
     "iopub.execute_input": "2024-11-14T05:25:03.412041Z",
     "iopub.status.busy": "2024-11-14T05:25:03.410760Z",
     "iopub.status.idle": "2024-11-14T05:25:03.420861Z",
     "shell.execute_reply": "2024-11-14T05:25:03.419485Z"
    },
    "papermill": {
     "duration": 0.052248,
     "end_time": "2024-11-14T05:25:03.423313",
     "exception": false,
     "start_time": "2024-11-14T05:25:03.371065",
     "status": "completed"
    },
    "tags": []
   },
   "outputs": [],
   "source": [
    "spam_carpos = []\n",
    "for sentence in df[df['target'] == 1]['transformed_text'].tolist():\n",
    "    for word in sentence.split():\n",
    "        spam_carpos.append(word)"
   ]
  },
  {
   "cell_type": "code",
   "execution_count": 301,
   "id": "aa46bf67",
   "metadata": {
    "execution": {
     "iopub.execute_input": "2024-11-14T05:25:03.502631Z",
     "iopub.status.busy": "2024-11-14T05:25:03.502226Z",
     "iopub.status.idle": "2024-11-14T05:25:03.510631Z",
     "shell.execute_reply": "2024-11-14T05:25:03.509259Z"
    },
    "papermill": {
     "duration": 0.051769,
     "end_time": "2024-11-14T05:25:03.513365",
     "exception": false,
     "start_time": "2024-11-14T05:25:03.461596",
     "status": "completed"
    },
    "tags": []
   },
   "outputs": [],
   "source": [
    "from collections import Counter\n",
    "filter_df = pd.DataFrame(Counter(spam_carpos).most_common(30))"
   ]
  },
  {
   "cell_type": "code",
   "execution_count": 302,
   "id": "726bf9b5",
   "metadata": {
    "execution": {
     "iopub.execute_input": "2024-11-14T05:25:03.594681Z",
     "iopub.status.busy": "2024-11-14T05:25:03.594285Z",
     "iopub.status.idle": "2024-11-14T05:25:04.176321Z",
     "shell.execute_reply": "2024-11-14T05:25:04.175233Z"
    },
    "papermill": {
     "duration": 0.624889,
     "end_time": "2024-11-14T05:25:04.178725",
     "exception": false,
     "start_time": "2024-11-14T05:25:03.553836",
     "status": "completed"
    },
    "tags": []
   },
   "outputs": [
    {
     "data": {
      "image/png": "[encoded data removed]",
      "text/plain": [
       "<Figure size 640x480 with 1 Axes>"
      ]
     },
     "metadata": {},
     "output_type": "display_data"
    }
   ],
   "source": [
    "sns.barplot(data = filter_df, x = filter_df[0], y = filter_df[1], palette = 'bright')\n",
    "plt.xticks(rotation = 90)\n",
    "plt.show()"
   ]
  },
  {
   "cell_type": "markdown",
   "id": "e50b1116",
   "metadata": {
    "papermill": {
     "duration": 0.038711,
     "end_time": "2024-11-14T05:25:04.256953",
     "exception": false,
     "start_time": "2024-11-14T05:25:04.218242",
     "status": "completed"
    },
    "tags": []
   },
   "source": [
    "> <span style='font-size:15px; font-family:Verdana;color: #FF00CC;'><b>6.4 | Find top 30 words of Not spam Messages</b></span>"
   ]
  },
  {
   "cell_type": "code",
   "execution_count": 303,
   "id": "fcf23ae1",
   "metadata": {
    "execution": {
     "iopub.execute_input": "2024-11-14T05:25:04.336674Z",
     "iopub.status.busy": "2024-11-14T05:25:04.336288Z",
     "iopub.status.idle": "2024-11-14T05:25:04.350505Z",
     "shell.execute_reply": "2024-11-14T05:25:04.349525Z"
    },
    "papermill": {
     "duration": 0.057326,
     "end_time": "2024-11-14T05:25:04.353140",
     "exception": false,
     "start_time": "2024-11-14T05:25:04.295814",
     "status": "completed"
    },
    "tags": []
   },
   "outputs": [],
   "source": [
    "ham_carpos = []\n",
    "for sentence in df[df['target'] == 0]['transformed_text'].tolist():\n",
    "    for word in sentence.split():\n",
    "        ham_carpos.append(word)"
   ]
  },
  {
   "cell_type": "code",
   "execution_count": 304,
   "id": "693f28dc",
   "metadata": {
    "execution": {
     "iopub.execute_input": "2024-11-14T05:25:04.435334Z",
     "iopub.status.busy": "2024-11-14T05:25:04.434511Z",
     "iopub.status.idle": "2024-11-14T05:25:04.441929Z",
     "shell.execute_reply": "2024-11-14T05:25:04.440722Z"
    },
    "papermill": {
     "duration": 0.051338,
     "end_time": "2024-11-14T05:25:04.444259",
     "exception": false,
     "start_time": "2024-11-14T05:25:04.392921",
     "status": "completed"
    },
    "tags": []
   },
   "outputs": [],
   "source": [
    "filter_ham_df = pd.DataFrame(Counter(spam_carpos).most_common(30))"
   ]
  },
  {
   "cell_type": "code",
   "execution_count": 305,
   "id": "81edc465",
   "metadata": {
    "execution": {
     "iopub.execute_input": "2024-11-14T05:25:04.526658Z",
     "iopub.status.busy": "2024-11-14T05:25:04.526281Z",
     "iopub.status.idle": "2024-11-14T05:25:05.129271Z",
     "shell.execute_reply": "2024-11-14T05:25:05.128029Z"
    },
    "papermill": {
     "duration": 0.646666,
     "end_time": "2024-11-14T05:25:05.131809",
     "exception": false,
     "start_time": "2024-11-14T05:25:04.485143",
     "status": "completed"
    },
    "tags": []
   },
   "outputs": [
    {
     "data": {
      "image/png": "[encoded data removed]",
      "text/plain": [
       "<Figure size 640x480 with 1 Axes>"
      ]
     },
     "metadata": {},
     "output_type": "display_data"
    }
   ],
   "source": [
    "sns.barplot(data = filter_ham_df, x = filter_ham_df[0], y = filter_ham_df[1], palette = 'cool')\n",
    "plt.xticks(rotation = 90)\n",
    "plt.show()"
   ]
  },
  {
   "cell_type": "markdown",
   "id": "80a7f6b4",
   "metadata": {
    "papermill": {
     "duration": 0.039945,
     "end_time": "2024-11-14T05:25:05.213262",
     "exception": false,
     "start_time": "2024-11-14T05:25:05.173317",
     "status": "completed"
    },
    "tags": []
   },
   "source": [
    "<center> <a href=\"#top\" role=\"button\" aria-pressed=\"true\" >⬆️Back to the Top ⬆️</a>"
   ]
  },
  {
   "cell_type": "markdown",
   "id": "81129163",
   "metadata": {
    "papermill": {
     "duration": 0.040754,
     "end_time": "2024-11-14T05:25:05.295125",
     "exception": false,
     "start_time": "2024-11-14T05:25:05.254371",
     "status": "completed"
    },
    "tags": []
   },
   "source": [
    "<a id=\"7\"></a>\n",
    "<div style=\"text-align: center; background: linear-gradient(to right, #FF00CC, #660066); font-family: 'Trebuchet MS', Arial, sans-serif; color: white; padding: 15px; font-size: 26px; font-weight: bold; line-height: 1; border-radius: 50% 0 50% 0 / 40px; margin-bottom: 20px; box-shadow: 0px 4px 6px rgba(0, 0, 0, 0.1);\">7. Model Building</div>\n"
   ]
  },
  {
   "cell_type": "markdown",
   "id": "009847b5",
   "metadata": {
    "papermill": {
     "duration": 0.039977,
     "end_time": "2024-11-14T05:25:05.379038",
     "exception": false,
     "start_time": "2024-11-14T05:25:05.339061",
     "status": "completed"
    },
    "tags": []
   },
   "source": [
    "> <span style='font-size:15px; font-family:Verdana;color: #FF00CC;'><b>7.1 | Initializing CountVectorizer and TfidfVectorizer</b></span>"
   ]
  },
  {
   "cell_type": "code",
   "execution_count": 306,
   "id": "d83a7039",
   "metadata": {
    "execution": {
     "iopub.execute_input": "2024-11-14T05:25:05.462240Z",
     "iopub.status.busy": "2024-11-14T05:25:05.461841Z",
     "iopub.status.idle": "2024-11-14T05:25:05.467999Z",
     "shell.execute_reply": "2024-11-14T05:25:05.466457Z"
    },
    "papermill": {
     "duration": 0.051326,
     "end_time": "2024-11-14T05:25:05.470503",
     "exception": false,
     "start_time": "2024-11-14T05:25:05.419177",
     "status": "completed"
    },
    "tags": []
   },
   "outputs": [],
   "source": [
    "from sklearn.feature_extraction.text import CountVectorizer, TfidfVectorizer\n",
    "cv = CountVectorizer()\n",
    "tfid = TfidfVectorizer(max_features = 3000)"
   ]
  },
  {
   "cell_type": "markdown",
   "id": "58710f83",
   "metadata": {
    "papermill": {
     "duration": 0.041137,
     "end_time": "2024-11-14T05:25:05.553206",
     "exception": false,
     "start_time": "2024-11-14T05:25:05.512069",
     "status": "completed"
    },
    "tags": []
   },
   "source": [
    "> <span style='font-size:15px; font-family:Verdana;color: #FF00CC;'><b>7.2 | Dependent and Independent Variable</b></span>"
   ]
  },
  {
   "cell_type": "code",
   "execution_count": 307,
   "id": "f7072c97",
   "metadata": {
    "execution": {
     "iopub.execute_input": "2024-11-14T05:25:05.635551Z",
     "iopub.status.busy": "2024-11-14T05:25:05.635178Z",
     "iopub.status.idle": "2024-11-14T05:25:05.838086Z",
     "shell.execute_reply": "2024-11-14T05:25:05.837055Z"
    },
    "papermill": {
     "duration": 0.247112,
     "end_time": "2024-11-14T05:25:05.840727",
     "exception": false,
     "start_time": "2024-11-14T05:25:05.593615",
     "status": "completed"
    },
    "tags": []
   },
   "outputs": [],
   "source": [
    "X = tfid.fit_transform(df['transformed_text']).toarray()\n",
    "y = df['target'].values"
   ]
  },
  {
   "cell_type": "markdown",
   "id": "f44e7a01",
   "metadata": {
    "papermill": {
     "duration": 0.039791,
     "end_time": "2024-11-14T05:25:05.920906",
     "exception": false,
     "start_time": "2024-11-14T05:25:05.881115",
     "status": "completed"
    },
    "tags": []
   },
   "source": [
    "> <span style='font-size:15px; font-family:Verdana;color: #FF00CC;'><b>7.3 | Split into Train and Test Data</b></span>"
   ]
  },
  {
   "cell_type": "code",
   "execution_count": 308,
   "id": "4c4a9928",
   "metadata": {
    "execution": {
     "iopub.execute_input": "2024-11-14T05:25:06.003426Z",
     "iopub.status.busy": "2024-11-14T05:25:06.003000Z",
     "iopub.status.idle": "2024-11-14T05:25:06.080982Z",
     "shell.execute_reply": "2024-11-14T05:25:06.079724Z"
    },
    "papermill": {
     "duration": 0.123042,
     "end_time": "2024-11-14T05:25:06.083930",
     "exception": false,
     "start_time": "2024-11-14T05:25:05.960888",
     "status": "completed"
    },
    "tags": []
   },
   "outputs": [],
   "source": [
    "from sklearn.model_selection import train_test_split\n",
    "X_train, X_test , y_train, y_test = train_test_split(X,y,test_size = 0.20, random_state = 2)"
   ]
  },
  {
   "cell_type": "markdown",
   "id": "14460114",
   "metadata": {
    "papermill": {
     "duration": 0.041233,
     "end_time": "2024-11-14T05:25:06.169747",
     "exception": false,
     "start_time": "2024-11-14T05:25:06.128514",
     "status": "completed"
    },
    "tags": []
   },
   "source": [
    "> <span style='font-size:15px; font-family:Verdana;color: #FF00CC;'><b>7.4 | Import the Models</b></span>"
   ]
  },
  {
   "cell_type": "code",
   "execution_count": 309,
   "id": "5e56f1e2",
   "metadata": {
    "execution": {
     "iopub.execute_input": "2024-11-14T05:25:06.252894Z",
     "iopub.status.busy": "2024-11-14T05:25:06.252457Z",
     "iopub.status.idle": "2024-11-14T05:25:06.760909Z",
     "shell.execute_reply": "2024-11-14T05:25:06.759712Z"
    },
    "papermill": {
     "duration": 0.553834,
     "end_time": "2024-11-14T05:25:06.763723",
     "exception": false,
     "start_time": "2024-11-14T05:25:06.209889",
     "status": "completed"
    },
    "tags": []
   },
   "outputs": [],
   "source": [
    "from sklearn.linear_model import LogisticRegression\n",
    "from sklearn.svm import SVC\n",
    "from sklearn.naive_bayes import MultinomialNB\n",
    "from sklearn.tree import DecisionTreeClassifier\n",
    "from sklearn.neighbors import KNeighborsClassifier\n",
    "from sklearn.ensemble import RandomForestClassifier\n",
    "from sklearn.ensemble import AdaBoostClassifier\n",
    "from sklearn.ensemble import BaggingClassifier\n",
    "from sklearn.ensemble import ExtraTreesClassifier\n",
    "from sklearn.ensemble import GradientBoostingClassifier\n",
    "from xgboost import XGBClassifier"
   ]
  },
  {
   "cell_type": "markdown",
   "id": "0ccc5603",
   "metadata": {
    "papermill": {
     "duration": 0.041129,
     "end_time": "2024-11-14T05:25:06.846550",
     "exception": false,
     "start_time": "2024-11-14T05:25:06.805421",
     "status": "completed"
    },
    "tags": []
   },
   "source": [
    "> <span style='font-size:15px; font-family:Verdana;color: #FF00CC;'><b>7.5 | Initialize the Models</b></span>"
   ]
  },
  {
   "cell_type": "code",
   "execution_count": 310,
   "id": "c067e797",
   "metadata": {
    "execution": {
     "iopub.execute_input": "2024-11-14T05:25:06.931659Z",
     "iopub.status.busy": "2024-11-14T05:25:06.931156Z",
     "iopub.status.idle": "2024-11-14T05:25:06.939153Z",
     "shell.execute_reply": "2024-11-14T05:25:06.937873Z"
    },
    "papermill": {
     "duration": 0.05486,
     "end_time": "2024-11-14T05:25:06.941883",
     "exception": false,
     "start_time": "2024-11-14T05:25:06.887023",
     "status": "completed"
    },
    "tags": []
   },
   "outputs": [],
   "source": [
    "svc = SVC(kernel= \"sigmoid\", gamma  = 1.0)\n",
    "knc = KNeighborsClassifier()\n",
    "mnb = MultinomialNB()\n",
    "dtc = DecisionTreeClassifier(max_depth = 5)\n",
    "lrc = LogisticRegression(solver = 'liblinear', penalty = 'l1')\n",
    "rfc = RandomForestClassifier(n_estimators = 50, random_state = 2 )\n",
    "abc = AdaBoostClassifier(n_estimators = 50, random_state = 2)\n",
    "bc = BaggingClassifier(n_estimators = 50, random_state = 2)\n",
    "etc = ExtraTreesClassifier(n_estimators = 50, random_state = 2)\n",
    "gbdt = GradientBoostingClassifier(n_estimators = 50, random_state = 2)    \n",
    "xgb  = XGBClassifier(n_estimators = 50, random_state = 2)\n",
    "\n",
    "\n",
    "    "
   ]
  },
  {
   "cell_type": "markdown",
   "id": "3edc072c",
   "metadata": {
    "papermill": {
     "duration": 0.040994,
     "end_time": "2024-11-14T05:25:07.025702",
     "exception": false,
     "start_time": "2024-11-14T05:25:06.984708",
     "status": "completed"
    },
    "tags": []
   },
   "source": [
    "> <span style='font-size:15px; font-family:Verdana;color: #FF00CC;'><b>7.6 | Dictionary of the Models</b></span>"
   ]
  },
  {
   "cell_type": "code",
   "execution_count": 311,
   "id": "5cc53121",
   "metadata": {
    "execution": {
     "iopub.execute_input": "2024-11-14T05:25:07.109078Z",
     "iopub.status.busy": "2024-11-14T05:25:07.108631Z",
     "iopub.status.idle": "2024-11-14T05:25:07.115301Z",
     "shell.execute_reply": "2024-11-14T05:25:07.113923Z"
    },
    "papermill": {
     "duration": 0.051553,
     "end_time": "2024-11-14T05:25:07.118111",
     "exception": false,
     "start_time": "2024-11-14T05:25:07.066558",
     "status": "completed"
    },
    "tags": []
   },
   "outputs": [],
   "source": [
    "clfs = {\n",
    "    'SVC': svc,\n",
    "    'KNN': knc,\n",
    "    'NB': mnb,\n",
    "    'DT': dtc,\n",
    "    'LR': lrc,\n",
    "    'RF': rfc,\n",
    "    'Adaboost': abc,\n",
    "    'Bgc': bc,\n",
    "    'ETC': etc,\n",
    "    'GBDT': gbdt,\n",
    "    'xgb': xgb\n",
    "    \n",
    "}"
   ]
  },
  {
   "cell_type": "markdown",
   "id": "028426e8",
   "metadata": {
    "papermill": {
     "duration": 0.042307,
     "end_time": "2024-11-14T05:25:07.201314",
     "exception": false,
     "start_time": "2024-11-14T05:25:07.159007",
     "status": "completed"
    },
    "tags": []
   },
   "source": [
    "> <span style='font-size:15px; font-family:Verdana;color: #FF00CC;'><b>7.7 |Train the Models</b></span>"
   ]
  },
  {
   "cell_type": "code",
   "execution_count": 312,
   "id": "b161e838",
   "metadata": {
    "execution": {
     "iopub.execute_input": "2024-11-14T05:25:07.284304Z",
     "iopub.status.busy": "2024-11-14T05:25:07.283909Z",
     "iopub.status.idle": "2024-11-14T05:25:07.290418Z",
     "shell.execute_reply": "2024-11-14T05:25:07.289317Z"
    },
    "papermill": {
     "duration": 0.051305,
     "end_time": "2024-11-14T05:25:07.292967",
     "exception": false,
     "start_time": "2024-11-14T05:25:07.241662",
     "status": "completed"
    },
    "tags": []
   },
   "outputs": [],
   "source": [
    "from sklearn.metrics import accuracy_score, precision_score\n",
    "def train_classifier(clfs, X_train, y_train, X_test, y_test):\n",
    "    clfs.fit(X_train,y_train)\n",
    "    y_pred = clfs.predict(X_test)\n",
    "    accuracy = accuracy_score(y_test, y_pred)\n",
    "    precision = precision_score(y_test, y_pred)\n",
    "    return accuracy , precision"
   ]
  },
  {
   "cell_type": "markdown",
   "id": "c868ff05",
   "metadata": {
    "papermill": {
     "duration": 0.040202,
     "end_time": "2024-11-14T05:25:07.374344",
     "exception": false,
     "start_time": "2024-11-14T05:25:07.334142",
     "status": "completed"
    },
    "tags": []
   },
   "source": [
    "<center> <a href=\"#top\" role=\"button\" aria-pressed=\"true\" >⬆️Back to the Top ⬆️</a>"
   ]
  },
  {
   "cell_type": "markdown",
   "id": "dad438c6",
   "metadata": {
    "papermill": {
     "duration": 0.041352,
     "end_time": "2024-11-14T05:25:07.456304",
     "exception": false,
     "start_time": "2024-11-14T05:25:07.414952",
     "status": "completed"
    },
    "tags": []
   },
   "source": [
    "<a id=\"8\"></a>\n",
    "<div style=\"text-align: center; background:  #FF00CC; font-family: 'Trebuchet MS', Arial, sans-serif; color: white; padding: 15px; font-size: 26px; font-weight: bold; line-height: 1; border-radius: 50% 0 50% 0 / 40px; margin-bottom: 20px; box-shadow: 0px 4px 6px rgba(0, 0, 0, 0.1);\">8a. Evaluate the Models</div>\n"
   ]
  },
  {
   "cell_type": "code",
   "execution_count": 313,
   "id": "338fc8b8",
   "metadata": {},
   "outputs": [
    {
     "data": {
      "text/plain": [
       "{'SVC': SVC(gamma=1.0, kernel='sigmoid'),\n",
       " 'KNN': KNeighborsClassifier(),\n",
       " 'NB': MultinomialNB(),\n",
       " 'DT': DecisionTreeClassifier(max_depth=5),\n",
       " 'LR': LogisticRegression(penalty='l1', solver='liblinear'),\n",
       " 'RF': RandomForestClassifier(n_estimators=50, random_state=2),\n",
       " 'Adaboost': AdaBoostClassifier(random_state=2),\n",
       " 'Bgc': BaggingClassifier(n_estimators=50, random_state=2),\n",
       " 'ETC': ExtraTreesClassifier(n_estimators=50, random_state=2),\n",
       " 'GBDT': GradientBoostingClassifier(n_estimators=50, random_state=2),\n",
       " 'xgb': XGBClassifier(base_score=None, booster=None, callbacks=None,\n",
       "               colsample_bylevel=None, colsample_bynode=None,\n",
       "               colsample_bytree=None, early_stopping_rounds=None,\n",
       "               enable_categorical=False, eval_metric=None, feature_types=None,\n",
       "               gamma=None, gpu_id=None, grow_policy=None, importance_type=None,\n",
       "               interaction_constraints=None, learning_rate=None, max_bin=None,\n",
       "               max_cat_threshold=None, max_cat_to_onehot=None,\n",
       "               max_delta_step=None, max_depth=None, max_leaves=None,\n",
       "               min_child_weight=None, missing=nan, monotone_constraints=None,\n",
       "               n_estimators=50, n_jobs=None, num_parallel_tree=None,\n",
       "               predictor=None, random_state=2, ...)}"
      ]
     },
     "execution_count": 313,
     "metadata": {},
     "output_type": "execute_result"
    }
   ],
   "source": [
    "clfs"
   ]
  },
  {
   "cell_type": "code",
   "execution_count": 314,
   "id": "fef37008",
   "metadata": {
    "execution": {
     "iopub.execute_input": "2024-11-14T05:25:07.542820Z",
     "iopub.status.busy": "2024-11-14T05:25:07.542407Z",
     "iopub.status.idle": "2024-11-14T05:28:31.871950Z",
     "shell.execute_reply": "2024-11-14T05:28:31.870732Z"
    },
    "papermill": {
     "duration": 204.375664,
     "end_time": "2024-11-14T05:28:31.874490",
     "exception": false,
     "start_time": "2024-11-14T05:25:07.498826",
     "status": "completed"
    },
    "tags": []
   },
   "outputs": [
    {
     "name": "stdout",
     "output_type": "stream",
     "text": [
      "\n",
      "For:  SVC\n",
      "Accuracy:  0.9758220502901354\n",
      "Precision:  0.9747899159663865\n",
      "\n",
      "For:  KNN\n",
      "Accuracy:  0.9052224371373307\n",
      "Precision:  1.0\n",
      "\n",
      "For:  NB\n",
      "Accuracy:  0.9709864603481625\n",
      "Precision:  1.0\n",
      "\n",
      "For:  DT\n",
      "Accuracy:  0.9303675048355899\n",
      "Precision:  0.8173076923076923\n",
      "\n",
      "For:  LR\n",
      "Accuracy:  0.9584139264990329\n",
      "Precision:  0.9702970297029703\n",
      "\n",
      "For:  RF\n",
      "Accuracy:  0.9758220502901354\n",
      "Precision:  0.9829059829059829\n"
     ]
    },
    {
     "name": "stderr",
     "output_type": "stream",
     "text": [
      "/opt/miniconda3/envs/ccProjectV2/lib/python3.10/site-packages/sklearn/ensemble/_weight_boosting.py:527: FutureWarning: The SAMME.R algorithm (the default) is deprecated and will be removed in 1.6. Use the SAMME algorithm to circumvent this warning.\n",
      "  warnings.warn(\n"
     ]
    },
    {
     "name": "stdout",
     "output_type": "stream",
     "text": [
      "\n",
      "For:  Adaboost\n",
      "Accuracy:  0.960348162475822\n",
      "Precision:  0.9292035398230089\n",
      "\n",
      "For:  Bgc\n",
      "Accuracy:  0.9584139264990329\n",
      "Precision:  0.8682170542635659\n",
      "\n",
      "For:  ETC\n",
      "Accuracy:  0.9748549323017408\n",
      "Precision:  0.9745762711864406\n",
      "\n",
      "For:  GBDT\n",
      "Accuracy:  0.9468085106382979\n",
      "Precision:  0.9191919191919192\n",
      "\n",
      "For:  xgb\n",
      "Accuracy:  0.9671179883945842\n",
      "Precision:  0.9333333333333333\n"
     ]
    }
   ],
   "source": [
    "accuracy_scores = []\n",
    "precision_scores = []\n",
    "for name , clfs in clfs.items():\n",
    "    current_accuracy, current_precision = train_classifier(clfs, X_train, y_train, X_test, y_test)\n",
    "    print()\n",
    "    print(\"For: \", name)\n",
    "    print(\"Accuracy: \", current_accuracy)\n",
    "    print(\"Precision: \", current_precision)\n",
    "    \n",
    "    accuracy_scores.append(current_accuracy)\n",
    "    precision_scores.append(current_precision)\n",
    "    "
   ]
  },
  {
   "cell_type": "markdown",
   "id": "0e879d84",
   "metadata": {
    "papermill": {
     "duration": 0.041639,
     "end_time": "2024-11-14T05:28:31.957807",
     "exception": false,
     "start_time": "2024-11-14T05:28:31.916168",
     "status": "completed"
    },
    "tags": []
   },
   "source": [
    "<center> <a href=\"#top\" role=\"button\" aria-pressed=\"true\" >⬆️Back to the Top ⬆️</a>"
   ]
  },
  {
   "cell_type": "markdown",
   "id": "603ca9d1",
   "metadata": {},
   "source": [
    "<a id=\"9\"></a>\n",
    "<div style=\"text-align: center; background:  #FF00CC; font-family: 'Trebuchet MS', Arial, sans-serif; color: white; padding: 15px; font-size: 26px; font-weight: bold; line-height: 1; border-radius: 50% 0 50% 0 / 40px; margin-bottom: 20px; box-shadow: 0px 4px 6px rgba(0, 0, 0, 0.1);\">8b. Train and save best model & vectorizor</div>\n"
   ]
  },
  {
   "cell_type": "code",
   "execution_count": 315,
   "id": "0edd3934",
   "metadata": {},
   "outputs": [
    {
     "name": "stdout",
     "output_type": "stream",
     "text": [
      "The best model (RandomForestClassifier) has been saved as 'best_model.pkl'.\n"
     ]
    }
   ],
   "source": [
    "import pickle\n",
    "from sklearn.ensemble import RandomForestClassifier\n",
    "\n",
    "# Define the best model directly\n",
    "best_model = RandomForestClassifier(n_estimators=50, random_state=2)\n",
    "\n",
    "# Train the model on the training data (if not already trained)\n",
    "best_model.fit(X_train, y_train)\n",
    "\n",
    "# Save the trained model to a pickle file\n",
    "with open('best_model.pkl', 'wb') as file:\n",
    "    pickle.dump(best_model, file)\n",
    "\n",
    "print(\"The best model (RandomForestClassifier) has been saved as 'best_model.pkl'.\")\n"
   ]
  },
  {
   "cell_type": "code",
   "execution_count": 316,
   "id": "5ffb5bde",
   "metadata": {},
   "outputs": [
    {
     "name": "stdout",
     "output_type": "stream",
     "text": [
      "RandomForestClassifier(n_estimators=50, random_state=2)\n",
      "Training Accuracy: 0.999758162031439\n",
      "Testing Accuracy: 0.9758220502901354\n"
     ]
    }
   ],
   "source": [
    "print(best_model)\n",
    "print(f\"Training Accuracy: {best_model.score(X_train, y_train)}\")\n",
    "print(f\"Testing Accuracy: {best_model.score(X_test, y_test)}\")\n"
   ]
  },
  {
   "cell_type": "code",
   "execution_count": 317,
   "id": "c4299aa5",
   "metadata": {},
   "outputs": [
    {
     "name": "stdout",
     "output_type": "stream",
     "text": [
      "TfidfVectorizer has been saved as 'vectorizer.pkl'.\n"
     ]
    }
   ],
   "source": [
    "# Save the trained TfidfVectorizer\n",
    "with open('vectorizer.pkl', 'wb') as file:\n",
    "    pickle.dump(tfid, file)\n",
    "\n",
    "print(\"TfidfVectorizer has been saved as 'vectorizer.pkl'.\")"
   ]
  },
  {
   "cell_type": "code",
   "execution_count": 318,
   "id": "f699e80e",
   "metadata": {},
   "outputs": [],
   "source": [
    "# Load the trained model\n",
    "with open('best_model.pkl', 'rb') as file:\n",
    "    loaded_model = pickle.load(file)\n",
    "\n",
    "# Assuming the CountVectorizer used during training is saved separately\n",
    "with open('vectorizer.pkl', 'rb') as file:\n",
    "    vectorizer = pickle.load(file)\n",
    "\n",
    "# Function to classify SMS messages\n",
    "def classify_sms(sms_text):\n",
    "    \"\"\"\n",
    "    Classify an SMS message as 'ham' or 'spam'.\n",
    "    \n",
    "    Args:\n",
    "        sms_text (str): The SMS message to classify.\n",
    "        \n",
    "    Returns:\n",
    "        str: 'ham' if the message is not spam, 'spam' otherwise.\n",
    "    \"\"\"\n",
    "    # Preprocess and vectorize the input SMS\n",
    "    sms_vector = vectorizer.transform([sms_text])\n",
    "    \n",
    "    # Predict using the loaded model\n",
    "    prediction = loaded_model.predict(sms_vector)\n",
    "    \n",
    "    # Return the classification\n",
    "    return \"spam\" if prediction[0] == 1 else \"ham\""
   ]
  },
  {
   "cell_type": "code",
   "execution_count": 319,
   "id": "08e7465c",
   "metadata": {},
   "outputs": [],
   "source": [
    "# Example usage\n",
    "sms = \"Congratulations! You've won a $1000 gift card. Call now to claim!\"\n",
    "sms2 = \"Hi Aouni! How are you? Can I invite you over for dinner? You can earn $1000 gift card. Call now to claim!\"\n",
    "sms3 = \"Hi Aouni! How are you? Can I invite you over for dinner? You can earn $1000 gift card.\"\n",
    "smss = [sms, sms2, sms3]"
   ]
  },
  {
   "cell_type": "code",
   "execution_count": 320,
   "id": "17dd9cb0",
   "metadata": {},
   "outputs": [
    {
     "name": "stdout",
     "output_type": "stream",
     "text": [
      "The SMS: \"Congratulations! You've won a $1000 gift card. Call now to claim!\" is classified as: spam\n",
      "The SMS: \"Hi Aouni! How are you? Can I invite you over for dinner? You can earn $1000 gift card. Call now to claim!\" is classified as: spam\n",
      "The SMS: \"Hi Aouni! How are you? Can I invite you over for dinner? You can earn $1000 gift card.\" is classified as: ham\n"
     ]
    }
   ],
   "source": [
    "for used_sms in smss:\n",
    "    result = classify_sms(used_sms)\n",
    "    print(f\"The SMS: \\\"{used_sms}\\\" is classified as: {result}\")"
   ]
  },
  {
   "cell_type": "markdown",
   "id": "02bfb2ec",
   "metadata": {},
   "source": [
    "<center> <a href=\"#top\" role=\"button\" aria-pressed=\"true\" >⬆️Back to the Top ⬆️</a>"
   ]
  },
  {
   "cell_type": "markdown",
   "id": "b504f781",
   "metadata": {
    "papermill": {
     "duration": 0.041585,
     "end_time": "2024-11-14T05:28:32.042690",
     "exception": false,
     "start_time": "2024-11-14T05:28:32.001105",
     "status": "completed"
    },
    "tags": []
   },
   "source": [
    "<a id=\"9\"></a>\n",
    "<div style=\"text-align: center; background:  #FF00CC; font-family: 'Trebuchet MS', Arial, sans-serif; color: white; padding: 15px; font-size: 26px; font-weight: bold; line-height: 1; border-radius: 50% 0 50% 0 / 40px; margin-bottom: 20px; box-shadow: 0px 4px 6px rgba(0, 0, 0, 0.1);\">9. Conclusion</div>\n"
   ]
  },
  {
   "cell_type": "markdown",
   "id": "87ed15c9",
   "metadata": {
    "papermill": {
     "duration": 0.040816,
     "end_time": "2024-11-14T05:28:32.125288",
     "exception": false,
     "start_time": "2024-11-14T05:28:32.084472",
     "status": "completed"
    },
    "tags": []
   },
   "source": [
    "<span style=\"font-size: 14px; font-family: Verdana; background-color: #F5F5F5; border: 2px solid #ccc; padding: 10px; border-radius: 10px; display: inline-block;\">\n",
    "  <strong>Conclusion:</strong> In our evaluation of various classification algorithms, we observed the following key insights:\n",
    "\n",
    "  - Support Vector Classifier (SVC) and Random Forest (RF) demonstrated the highest accuracy, both achieving approximately <span style=\"background-color: yellow; font-weight: bold;\">97.58%</span>.\n",
    "  - Naive Bayes (NB) achieved a perfect precision score, indicating zero false positives.\n",
    "  - Other models, including Gradient Boosting, Adaboost, Logistic Regression, and Bagging Classifier, displayed competitive performance with accuracy scores ranging from <span style=\"background-color: yellow; font-weight: bold;\">94.68%</span> to <span style=\"background-color: yellow; font-weight: bold;\">96.03%</span>.\n",
    "\n",
    "  The selection of the optimal model should consider factors beyond just accuracy, such as computational efficiency and the specific requirements of the application. It is advisable to perform further model fine-tuning and validation before making a final choice.\n",
    "</span>\n"
   ]
  },
  {
   "cell_type": "markdown",
   "id": "a613cf0e",
   "metadata": {
    "papermill": {
     "duration": 0.042078,
     "end_time": "2024-11-14T05:28:32.208228",
     "exception": false,
     "start_time": "2024-11-14T05:28:32.166150",
     "status": "completed"
    },
    "tags": []
   },
   "source": [
    "<a id=\"10\"></a>\n",
    "<div style=\"text-align: center; background:  #FF00CC; font-family: 'Trebuchet MS', Arial, sans-serif; color: white; padding: 15px; font-size: 26px; font-weight: bold; line-height: 1; border-radius: 50% 0 50% 0 / 40px; margin-bottom: 20px; box-shadow: 0px 4px 6px rgba(0, 0, 0, 0.1);\">10. Author Message</div>\n",
    "\n",
    "<center><a href=\"https://www.buymeacoffee.com/zabih\" target=\"_blank\"><img src=\"https://www.codehim.com/wp-content/uploads/2022/09/bmc-button-640x180.png.webp\" alt=\"Buy Me A Coffee\" style=\"height: 100px; width: 400px; box-shadow: 0px 3px 2px 0px rgba(190, 190, 190, 0.5) !important;-webkit-box-shadow: 0px 3px 2px 0px rgba(190, 190, 190, 0.5) !important;\" ></a></center>\n"
   ]
  },
  {
   "cell_type": "markdown",
   "id": "caf7e64e",
   "metadata": {
    "papermill": {
     "duration": 0.041148,
     "end_time": "2024-11-14T05:28:32.291014",
     "exception": false,
     "start_time": "2024-11-14T05:28:32.249866",
     "status": "completed"
    },
    "tags": []
   },
   "source": [
    "<div style=\"background-color:white;font-size:15px;font-family:Georgia;border-style: solid;border-color: #FF00CC;border-width:3px;padding:10px;margin: 1px;color:#254E58;overflow:hidden\"> \n",
    "\n",
    "<h4><b style = 'color: red;'>Inspired by :</b> Zabih ullah </h4>\n",
    "\n",
    "\n",
    "<b>👉Read more project :</b> https://www.kaggle.com/zabihullah18 <br>\n",
    "<b>👉Shoot me mails :</b> zabihullah18381@gmail.com<br>\n",
    "<b>👉Connect on LinkedIn :</b> https://www.linkedin.com/in/zabih-ullah/ <br>\n",
    "<b>👉Explore Github :</b> https://github.com/Zabih-programs <br>\n",
    "    \n",
    "<hr>\n",
    "    \n",
    "<center> <strong> If you liked this Notebook, please do upvote. </strong>\n",
    "    \n",
    "<center> <strong> If you have any questions, feel free to comment! </strong>\n",
    "    \n",
    "<center> <strong style = 'color: red;' > ✨Best Wishes✨ </strong>"
   ]
  },
  {
   "cell_type": "code",
   "execution_count": null,
   "id": "4a2c0f38",
   "metadata": {},
   "outputs": [],
   "source": []
  }
 ],
 "metadata": {
  "kaggle": {
   "accelerator": "none",
   "dataSources": [
    {
     "datasetId": 55,
     "sourceId": 120,
     "sourceType": "datasetVersion"
    },
    {
     "datasetId": 483,
     "sourceId": 982,
     "sourceType": "datasetVersion"
    },
    {
     "datasetId": 1618,
     "sourceId": 2879,
     "sourceType": "datasetVersion"
    },
    {
     "datasetId": 2050,
     "sourceId": 3494,
     "sourceType": "datasetVersion"
    },
    {
     "datasetId": 91827,
     "sourceId": 213216,
     "sourceType": "datasetVersion"
    },
    {
     "datasetId": 109196,
     "sourceId": 260807,
     "sourceType": "datasetVersion"
    },
    {
     "datasetId": 547699,
     "sourceId": 998616,
     "sourceType": "datasetVersion"
    },
    {
     "datasetId": 946753,
     "sourceId": 1603933,
     "sourceType": "datasetVersion"
    },
    {
     "datasetId": 1029317,
     "sourceId": 1735657,
     "sourceType": "datasetVersion"
    },
    {
     "datasetId": 1422521,
     "sourceId": 2355807,
     "sourceType": "datasetVersion"
    },
    {
     "sourceId": 46853122,
     "sourceType": "kernelVersion"
    }
   ],
   "dockerImageVersionId": 30558,
   "isGpuEnabled": false,
   "isInternetEnabled": true,
   "language": "python",
   "sourceType": "notebook"
  },
  "kernelspec": {
   "display_name": "ccProject",
   "language": "python",
   "name": "python3"
  },
  "language_info": {
   "codemirror_mode": {
    "name": "ipython",
    "version": 3
   },
   "file_extension": ".py",
   "mimetype": "text/x-python",
   "name": "python",
   "nbconvert_exporter": "python",
   "pygments_lexer": "ipython3",
   "version": "3.10.12"
  },
  "papermill": {
   "default_parameters": {},
   "duration": 245.025682,
   "end_time": "2024-11-14T05:28:33.155062",
   "environment_variables": {},
   "exception": null,
   "input_path": "__notebook__.ipynb",
   "output_path": "__notebook__.ipynb",
   "parameters": {},
   "start_time": "2024-11-14T05:24:28.129380",
   "version": "2.4.0"
  }
 },
 "nbformat": 4,
 "nbformat_minor": 5
}
